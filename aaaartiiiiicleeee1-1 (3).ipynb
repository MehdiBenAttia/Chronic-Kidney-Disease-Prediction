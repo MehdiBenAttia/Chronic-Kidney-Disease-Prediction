{
 "cells": [
  {
   "cell_type": "code",
   "execution_count": 155,
   "id": "bc6d1615",
   "metadata": {},
   "outputs": [],
   "source": [
    "import pandas as pd\n",
    "import math\n",
    "import pandas as pd\n",
    "import numpy as np\n",
    "import sklearn.metrics as sm\n",
    "import matplotlib.pyplot as plt\n",
    "from sklearn.cluster import KMeans\n",
    "from sklearn import datasets\n",
    "import seaborn as sns\n",
    "from sklearn import preprocessing\n",
    "from sklearn.model_selection import train_test_split\n",
    "import warnings\n",
    "from sklearn.impute import KNNImputer\n",
    "from sklearn.model_selection import train_test_split\n",
    "from sklearn.preprocessing import StandardScaler\n",
    "from sklearn.neighbors import KNeighborsClassifier\n",
    "from sklearn.pipeline import Pipeline\n",
    "from sklearn.metrics import classification_report,confusion_matrix,accuracy_score\n",
    "from sklearn.model_selection import GridSearchCV\n",
    "from sklearn.svm import SVC\n",
    "from sklearn.naive_bayes import MultinomialNB\n",
    "from sklearn.feature_extraction.text import TfidfVectorizer\n",
    "\n",
    "\n",
    "warnings.filterwarnings(action='ignore')\n",
    "\n",
    "data = []\n",
    "with open('chronic_kidney_disease.arff', \"r\") as f:\n",
    "    for line in f:\n",
    "        line = line.replace('\\n', '')\n",
    "        data.append(line.split(','))\n",
    "\n",
    "\n",
    "names = ['age', 'bp', 'sg', 'al', 'su', 'rbc', 'pc', 'pcc', 'ba',\n",
    "         'bgr', 'bu',  'sc', 'sod', 'pot', 'hemo', 'pcv', 'wbcc',\n",
    "         'rbcc', 'htn', 'dm', 'cad', 'appet', 'pe', 'ane',\n",
    "         'class']\n",
    "    \n",
    "df = pd.DataFrame(data, columns=names)"
   ]
  },
  {
   "cell_type": "code",
   "execution_count": 156,
   "id": "1d8a0b79",
   "metadata": {},
   "outputs": [
    {
     "data": {
      "text/html": [
       "<div>\n",
       "<style scoped>\n",
       "    .dataframe tbody tr th:only-of-type {\n",
       "        vertical-align: middle;\n",
       "    }\n",
       "\n",
       "    .dataframe tbody tr th {\n",
       "        vertical-align: top;\n",
       "    }\n",
       "\n",
       "    .dataframe thead th {\n",
       "        text-align: right;\n",
       "    }\n",
       "</style>\n",
       "<table border=\"1\" class=\"dataframe\">\n",
       "  <thead>\n",
       "    <tr style=\"text-align: right;\">\n",
       "      <th></th>\n",
       "      <th>age</th>\n",
       "      <th>bp</th>\n",
       "      <th>sg</th>\n",
       "      <th>al</th>\n",
       "      <th>su</th>\n",
       "      <th>rbc</th>\n",
       "      <th>pc</th>\n",
       "      <th>pcc</th>\n",
       "      <th>ba</th>\n",
       "      <th>bgr</th>\n",
       "      <th>...</th>\n",
       "      <th>pcv</th>\n",
       "      <th>wbcc</th>\n",
       "      <th>rbcc</th>\n",
       "      <th>htn</th>\n",
       "      <th>dm</th>\n",
       "      <th>cad</th>\n",
       "      <th>appet</th>\n",
       "      <th>pe</th>\n",
       "      <th>ane</th>\n",
       "      <th>class</th>\n",
       "    </tr>\n",
       "  </thead>\n",
       "  <tbody>\n",
       "    <tr>\n",
       "      <th>0</th>\n",
       "      <td>48</td>\n",
       "      <td>80</td>\n",
       "      <td>1.020</td>\n",
       "      <td>1</td>\n",
       "      <td>0</td>\n",
       "      <td>NaN</td>\n",
       "      <td>normal</td>\n",
       "      <td>notpresent</td>\n",
       "      <td>notpresent</td>\n",
       "      <td>121</td>\n",
       "      <td>...</td>\n",
       "      <td>44</td>\n",
       "      <td>7800</td>\n",
       "      <td>5.2</td>\n",
       "      <td>yes</td>\n",
       "      <td>yes</td>\n",
       "      <td>no</td>\n",
       "      <td>good</td>\n",
       "      <td>no</td>\n",
       "      <td>no</td>\n",
       "      <td>ckd</td>\n",
       "    </tr>\n",
       "    <tr>\n",
       "      <th>1</th>\n",
       "      <td>7</td>\n",
       "      <td>50</td>\n",
       "      <td>1.020</td>\n",
       "      <td>4</td>\n",
       "      <td>0</td>\n",
       "      <td>NaN</td>\n",
       "      <td>normal</td>\n",
       "      <td>notpresent</td>\n",
       "      <td>notpresent</td>\n",
       "      <td>NaN</td>\n",
       "      <td>...</td>\n",
       "      <td>38</td>\n",
       "      <td>6000</td>\n",
       "      <td>NaN</td>\n",
       "      <td>no</td>\n",
       "      <td>no</td>\n",
       "      <td>no</td>\n",
       "      <td>good</td>\n",
       "      <td>no</td>\n",
       "      <td>no</td>\n",
       "      <td>ckd</td>\n",
       "    </tr>\n",
       "    <tr>\n",
       "      <th>2</th>\n",
       "      <td>62</td>\n",
       "      <td>80</td>\n",
       "      <td>1.010</td>\n",
       "      <td>2</td>\n",
       "      <td>3</td>\n",
       "      <td>normal</td>\n",
       "      <td>normal</td>\n",
       "      <td>notpresent</td>\n",
       "      <td>notpresent</td>\n",
       "      <td>423</td>\n",
       "      <td>...</td>\n",
       "      <td>31</td>\n",
       "      <td>7500</td>\n",
       "      <td>NaN</td>\n",
       "      <td>no</td>\n",
       "      <td>yes</td>\n",
       "      <td>no</td>\n",
       "      <td>poor</td>\n",
       "      <td>no</td>\n",
       "      <td>yes</td>\n",
       "      <td>ckd</td>\n",
       "    </tr>\n",
       "    <tr>\n",
       "      <th>3</th>\n",
       "      <td>48</td>\n",
       "      <td>70</td>\n",
       "      <td>1.005</td>\n",
       "      <td>4</td>\n",
       "      <td>0</td>\n",
       "      <td>normal</td>\n",
       "      <td>abnormal</td>\n",
       "      <td>present</td>\n",
       "      <td>notpresent</td>\n",
       "      <td>117</td>\n",
       "      <td>...</td>\n",
       "      <td>32</td>\n",
       "      <td>6700</td>\n",
       "      <td>3.9</td>\n",
       "      <td>yes</td>\n",
       "      <td>no</td>\n",
       "      <td>no</td>\n",
       "      <td>poor</td>\n",
       "      <td>yes</td>\n",
       "      <td>yes</td>\n",
       "      <td>ckd</td>\n",
       "    </tr>\n",
       "    <tr>\n",
       "      <th>4</th>\n",
       "      <td>51</td>\n",
       "      <td>80</td>\n",
       "      <td>1.010</td>\n",
       "      <td>2</td>\n",
       "      <td>0</td>\n",
       "      <td>normal</td>\n",
       "      <td>normal</td>\n",
       "      <td>notpresent</td>\n",
       "      <td>notpresent</td>\n",
       "      <td>106</td>\n",
       "      <td>...</td>\n",
       "      <td>35</td>\n",
       "      <td>7300</td>\n",
       "      <td>4.6</td>\n",
       "      <td>no</td>\n",
       "      <td>no</td>\n",
       "      <td>no</td>\n",
       "      <td>good</td>\n",
       "      <td>no</td>\n",
       "      <td>no</td>\n",
       "      <td>ckd</td>\n",
       "    </tr>\n",
       "  </tbody>\n",
       "</table>\n",
       "<p>5 rows × 25 columns</p>\n",
       "</div>"
      ],
      "text/plain": [
       "  age  bp     sg al su     rbc        pc         pcc          ba  bgr  ...  \\\n",
       "0  48  80  1.020  1  0     NaN    normal  notpresent  notpresent  121  ...   \n",
       "1   7  50  1.020  4  0     NaN    normal  notpresent  notpresent  NaN  ...   \n",
       "2  62  80  1.010  2  3  normal    normal  notpresent  notpresent  423  ...   \n",
       "3  48  70  1.005  4  0  normal  abnormal     present  notpresent  117  ...   \n",
       "4  51  80  1.010  2  0  normal    normal  notpresent  notpresent  106  ...   \n",
       "\n",
       "  pcv  wbcc rbcc  htn   dm cad appet   pe  ane class  \n",
       "0  44  7800  5.2  yes  yes  no  good   no   no   ckd  \n",
       "1  38  6000  NaN   no   no  no  good   no   no   ckd  \n",
       "2  31  7500  NaN   no  yes  no  poor   no  yes   ckd  \n",
       "3  32  6700  3.9  yes   no  no  poor  yes  yes   ckd  \n",
       "4  35  7300  4.6   no   no  no  good   no   no   ckd  \n",
       "\n",
       "[5 rows x 25 columns]"
      ]
     },
     "execution_count": 156,
     "metadata": {},
     "output_type": "execute_result"
    }
   ],
   "source": [
    "df=df.replace('?', math.nan)\n",
    "df.head()"
   ]
  },
  {
   "cell_type": "code",
   "execution_count": 157,
   "id": "d9f814d5",
   "metadata": {},
   "outputs": [],
   "source": [
    "cols=['age','bp','sg','al','su','bgr','bu','sc','sod','pot','hemo','pcv','wbcc','rbcc']\n",
    "for i in cols:\n",
    "    df[i] = pd.to_numeric(df[i], errors='coerce')\n"
   ]
  },
  {
   "cell_type": "code",
   "execution_count": 158,
   "id": "b662696c",
   "metadata": {},
   "outputs": [],
   "source": [
    "# Extracting categorical and numerical columns\n",
    "categorical_df=[]\n",
    "numerical_df=[]\n",
    "for col in df.columns:\n",
    "    if df[col].dtype=='object':\n",
    "        categorical_df.append(col)\n",
    "    if df[col].dtype=='float64':\n",
    "        numerical_df.append(col)"
   ]
  },
  {
   "cell_type": "code",
   "execution_count": 159,
   "id": "b86995ee",
   "metadata": {},
   "outputs": [
    {
     "name": "stdout",
     "output_type": "stream",
     "text": [
      "rbc has [nan 'normal' 'abnormal'] values\n",
      "\n",
      "pc has ['normal' 'abnormal' nan] values\n",
      "\n",
      "pcc has ['notpresent' 'present' nan] values\n",
      "\n",
      "ba has ['notpresent' 'present' nan] values\n",
      "\n",
      "htn has ['yes' 'no' nan] values\n",
      "\n",
      "dm has ['yes' 'no' ' yes' '\\tno' nan] values\n",
      "\n",
      "cad has ['no' 'yes' nan] values\n",
      "\n",
      "appet has ['good' 'poor' nan] values\n",
      "\n",
      "pe has ['no' 'yes' nan] values\n",
      "\n",
      "ane has ['no' 'yes' nan] values\n",
      "\n",
      "class has ['ckd' 'ckd\\t' 'notckd'] values\n",
      "\n"
     ]
    }
   ],
   "source": [
    "for col in categorical_df:\n",
    "    print(f\"{col} has {df[col].unique()} values\\n\")"
   ]
  },
  {
   "cell_type": "code",
   "execution_count": 160,
   "id": "8b0acc64",
   "metadata": {},
   "outputs": [],
   "source": [
    "# replace incorrect values\n",
    "\n",
    "df['dm'].replace(to_replace = {'\\tno':'no','\\tyes':'yes',' yes':'yes'},inplace=True)\n",
    "\n",
    "df['cad'] = df['cad'].replace(to_replace = '\\tno', value='no')\n",
    "\n",
    "df['class'] = df['class'].replace(to_replace = {'ckd\\t': 'ckd', 'notckd': 'not ckd'})"
   ]
  },
  {
   "cell_type": "code",
   "execution_count": 161,
   "id": "29b6b208",
   "metadata": {},
   "outputs": [
    {
     "data": {
      "text/plain": [
       "rbc      152\n",
       "rbcc     131\n",
       "wbcc     106\n",
       "pot       88\n",
       "sod       87\n",
       "pcv       71\n",
       "pc        65\n",
       "hemo      52\n",
       "su        49\n",
       "sg        47\n",
       "al        46\n",
       "bgr       44\n",
       "bu        19\n",
       "sc        17\n",
       "bp        12\n",
       "age        9\n",
       "ba         4\n",
       "pcc        4\n",
       "htn        2\n",
       "dm         2\n",
       "cad        2\n",
       "appet      1\n",
       "pe         1\n",
       "ane        1\n",
       "class      0\n",
       "dtype: int64"
      ]
     },
     "execution_count": 161,
     "metadata": {},
     "output_type": "execute_result"
    }
   ],
   "source": [
    "df.isna().sum().sort_values(ascending = False)\n"
   ]
  },
  {
   "cell_type": "code",
   "execution_count": 162,
   "id": "0f23dc95",
   "metadata": {},
   "outputs": [],
   "source": [
    "# le = preprocessing.LabelEncoder()\n",
    "# df = df.apply(lambda series: pd.Series(\n",
    "#     le.fit_transform(series[series.notnull()]),\n",
    "#     index=series[series.notnull()].index\n",
    "# ))"
   ]
  },
  {
   "cell_type": "code",
   "execution_count": 163,
   "id": "338a21ec",
   "metadata": {},
   "outputs": [],
   "source": [
    "categ_df=df[categorical_df]\n",
    "normam_df=df[numerical_df]"
   ]
  },
  {
   "cell_type": "code",
   "execution_count": null,
   "id": "7b547f4e",
   "metadata": {},
   "outputs": [],
   "source": []
  },
  {
   "cell_type": "code",
   "execution_count": 164,
   "id": "84c1fa0a",
   "metadata": {},
   "outputs": [
    {
     "data": {
      "text/html": [
       "<div>\n",
       "<style scoped>\n",
       "    .dataframe tbody tr th:only-of-type {\n",
       "        vertical-align: middle;\n",
       "    }\n",
       "\n",
       "    .dataframe tbody tr th {\n",
       "        vertical-align: top;\n",
       "    }\n",
       "\n",
       "    .dataframe thead th {\n",
       "        text-align: right;\n",
       "    }\n",
       "</style>\n",
       "<table border=\"1\" class=\"dataframe\">\n",
       "  <thead>\n",
       "    <tr style=\"text-align: right;\">\n",
       "      <th></th>\n",
       "      <th>rbc</th>\n",
       "      <th>pc</th>\n",
       "      <th>pcc</th>\n",
       "      <th>ba</th>\n",
       "      <th>htn</th>\n",
       "      <th>dm</th>\n",
       "      <th>cad</th>\n",
       "      <th>appet</th>\n",
       "      <th>pe</th>\n",
       "      <th>ane</th>\n",
       "      <th>class</th>\n",
       "    </tr>\n",
       "  </thead>\n",
       "  <tbody>\n",
       "    <tr>\n",
       "      <th>395</th>\n",
       "      <td>normal</td>\n",
       "      <td>normal</td>\n",
       "      <td>notpresent</td>\n",
       "      <td>notpresent</td>\n",
       "      <td>no</td>\n",
       "      <td>no</td>\n",
       "      <td>no</td>\n",
       "      <td>good</td>\n",
       "      <td>no</td>\n",
       "      <td>no</td>\n",
       "      <td>not ckd</td>\n",
       "    </tr>\n",
       "    <tr>\n",
       "      <th>396</th>\n",
       "      <td>normal</td>\n",
       "      <td>normal</td>\n",
       "      <td>notpresent</td>\n",
       "      <td>notpresent</td>\n",
       "      <td>no</td>\n",
       "      <td>no</td>\n",
       "      <td>no</td>\n",
       "      <td>good</td>\n",
       "      <td>no</td>\n",
       "      <td>no</td>\n",
       "      <td>not ckd</td>\n",
       "    </tr>\n",
       "    <tr>\n",
       "      <th>397</th>\n",
       "      <td>normal</td>\n",
       "      <td>normal</td>\n",
       "      <td>notpresent</td>\n",
       "      <td>notpresent</td>\n",
       "      <td>no</td>\n",
       "      <td>no</td>\n",
       "      <td>no</td>\n",
       "      <td>good</td>\n",
       "      <td>no</td>\n",
       "      <td>no</td>\n",
       "      <td>not ckd</td>\n",
       "    </tr>\n",
       "    <tr>\n",
       "      <th>398</th>\n",
       "      <td>normal</td>\n",
       "      <td>normal</td>\n",
       "      <td>notpresent</td>\n",
       "      <td>notpresent</td>\n",
       "      <td>no</td>\n",
       "      <td>no</td>\n",
       "      <td>no</td>\n",
       "      <td>good</td>\n",
       "      <td>no</td>\n",
       "      <td>no</td>\n",
       "      <td>not ckd</td>\n",
       "    </tr>\n",
       "    <tr>\n",
       "      <th>399</th>\n",
       "      <td>normal</td>\n",
       "      <td>normal</td>\n",
       "      <td>notpresent</td>\n",
       "      <td>notpresent</td>\n",
       "      <td>no</td>\n",
       "      <td>no</td>\n",
       "      <td>no</td>\n",
       "      <td>good</td>\n",
       "      <td>no</td>\n",
       "      <td>no</td>\n",
       "      <td>not ckd</td>\n",
       "    </tr>\n",
       "  </tbody>\n",
       "</table>\n",
       "</div>"
      ],
      "text/plain": [
       "        rbc      pc         pcc          ba htn  dm cad appet  pe ane    class\n",
       "395  normal  normal  notpresent  notpresent  no  no  no  good  no  no  not ckd\n",
       "396  normal  normal  notpresent  notpresent  no  no  no  good  no  no  not ckd\n",
       "397  normal  normal  notpresent  notpresent  no  no  no  good  no  no  not ckd\n",
       "398  normal  normal  notpresent  notpresent  no  no  no  good  no  no  not ckd\n",
       "399  normal  normal  notpresent  notpresent  no  no  no  good  no  no  not ckd"
      ]
     },
     "execution_count": 164,
     "metadata": {},
     "output_type": "execute_result"
    }
   ],
   "source": [
    "from sklearn.impute import SimpleImputer\n",
    "imputer = SimpleImputer(strategy='most_frequent')\n",
    "dd=imputer.fit_transform(categ_df)\n",
    "categ_df = pd.DataFrame(dd, columns = categorical_df)\n",
    "categ_df.tail()"
   ]
  },
  {
   "cell_type": "code",
   "execution_count": 165,
   "id": "0f6c8c46",
   "metadata": {},
   "outputs": [],
   "source": [
    "frames = [ categ_df,normam_df]\n",
    "new_data=pd.concat(frames)\n",
    "df = pd.concat([normam_df, categ_df], axis=1)"
   ]
  },
  {
   "cell_type": "code",
   "execution_count": 166,
   "id": "441c6b57",
   "metadata": {},
   "outputs": [
    {
     "data": {
      "text/html": [
       "<div>\n",
       "<style scoped>\n",
       "    .dataframe tbody tr th:only-of-type {\n",
       "        vertical-align: middle;\n",
       "    }\n",
       "\n",
       "    .dataframe tbody tr th {\n",
       "        vertical-align: top;\n",
       "    }\n",
       "\n",
       "    .dataframe thead th {\n",
       "        text-align: right;\n",
       "    }\n",
       "</style>\n",
       "<table border=\"1\" class=\"dataframe\">\n",
       "  <thead>\n",
       "    <tr style=\"text-align: right;\">\n",
       "      <th></th>\n",
       "      <th>age</th>\n",
       "      <th>bp</th>\n",
       "      <th>sg</th>\n",
       "      <th>al</th>\n",
       "      <th>su</th>\n",
       "      <th>bgr</th>\n",
       "      <th>bu</th>\n",
       "      <th>sc</th>\n",
       "      <th>sod</th>\n",
       "      <th>pot</th>\n",
       "      <th>...</th>\n",
       "      <th>pc</th>\n",
       "      <th>pcc</th>\n",
       "      <th>ba</th>\n",
       "      <th>htn</th>\n",
       "      <th>dm</th>\n",
       "      <th>cad</th>\n",
       "      <th>appet</th>\n",
       "      <th>pe</th>\n",
       "      <th>ane</th>\n",
       "      <th>class</th>\n",
       "    </tr>\n",
       "  </thead>\n",
       "  <tbody>\n",
       "    <tr>\n",
       "      <th>0</th>\n",
       "      <td>48.0</td>\n",
       "      <td>80.0</td>\n",
       "      <td>1.020</td>\n",
       "      <td>1.0</td>\n",
       "      <td>0.0</td>\n",
       "      <td>121.0</td>\n",
       "      <td>36.0</td>\n",
       "      <td>1.2</td>\n",
       "      <td>NaN</td>\n",
       "      <td>NaN</td>\n",
       "      <td>...</td>\n",
       "      <td>normal</td>\n",
       "      <td>notpresent</td>\n",
       "      <td>notpresent</td>\n",
       "      <td>yes</td>\n",
       "      <td>yes</td>\n",
       "      <td>no</td>\n",
       "      <td>good</td>\n",
       "      <td>no</td>\n",
       "      <td>no</td>\n",
       "      <td>ckd</td>\n",
       "    </tr>\n",
       "    <tr>\n",
       "      <th>1</th>\n",
       "      <td>7.0</td>\n",
       "      <td>50.0</td>\n",
       "      <td>1.020</td>\n",
       "      <td>4.0</td>\n",
       "      <td>0.0</td>\n",
       "      <td>NaN</td>\n",
       "      <td>18.0</td>\n",
       "      <td>0.8</td>\n",
       "      <td>NaN</td>\n",
       "      <td>NaN</td>\n",
       "      <td>...</td>\n",
       "      <td>normal</td>\n",
       "      <td>notpresent</td>\n",
       "      <td>notpresent</td>\n",
       "      <td>no</td>\n",
       "      <td>no</td>\n",
       "      <td>no</td>\n",
       "      <td>good</td>\n",
       "      <td>no</td>\n",
       "      <td>no</td>\n",
       "      <td>ckd</td>\n",
       "    </tr>\n",
       "    <tr>\n",
       "      <th>2</th>\n",
       "      <td>62.0</td>\n",
       "      <td>80.0</td>\n",
       "      <td>1.010</td>\n",
       "      <td>2.0</td>\n",
       "      <td>3.0</td>\n",
       "      <td>423.0</td>\n",
       "      <td>53.0</td>\n",
       "      <td>1.8</td>\n",
       "      <td>NaN</td>\n",
       "      <td>NaN</td>\n",
       "      <td>...</td>\n",
       "      <td>normal</td>\n",
       "      <td>notpresent</td>\n",
       "      <td>notpresent</td>\n",
       "      <td>no</td>\n",
       "      <td>yes</td>\n",
       "      <td>no</td>\n",
       "      <td>poor</td>\n",
       "      <td>no</td>\n",
       "      <td>yes</td>\n",
       "      <td>ckd</td>\n",
       "    </tr>\n",
       "    <tr>\n",
       "      <th>3</th>\n",
       "      <td>48.0</td>\n",
       "      <td>70.0</td>\n",
       "      <td>1.005</td>\n",
       "      <td>4.0</td>\n",
       "      <td>0.0</td>\n",
       "      <td>117.0</td>\n",
       "      <td>56.0</td>\n",
       "      <td>3.8</td>\n",
       "      <td>111.0</td>\n",
       "      <td>2.5</td>\n",
       "      <td>...</td>\n",
       "      <td>abnormal</td>\n",
       "      <td>present</td>\n",
       "      <td>notpresent</td>\n",
       "      <td>yes</td>\n",
       "      <td>no</td>\n",
       "      <td>no</td>\n",
       "      <td>poor</td>\n",
       "      <td>yes</td>\n",
       "      <td>yes</td>\n",
       "      <td>ckd</td>\n",
       "    </tr>\n",
       "    <tr>\n",
       "      <th>4</th>\n",
       "      <td>51.0</td>\n",
       "      <td>80.0</td>\n",
       "      <td>1.010</td>\n",
       "      <td>2.0</td>\n",
       "      <td>0.0</td>\n",
       "      <td>106.0</td>\n",
       "      <td>26.0</td>\n",
       "      <td>1.4</td>\n",
       "      <td>NaN</td>\n",
       "      <td>NaN</td>\n",
       "      <td>...</td>\n",
       "      <td>normal</td>\n",
       "      <td>notpresent</td>\n",
       "      <td>notpresent</td>\n",
       "      <td>no</td>\n",
       "      <td>no</td>\n",
       "      <td>no</td>\n",
       "      <td>good</td>\n",
       "      <td>no</td>\n",
       "      <td>no</td>\n",
       "      <td>ckd</td>\n",
       "    </tr>\n",
       "  </tbody>\n",
       "</table>\n",
       "<p>5 rows × 25 columns</p>\n",
       "</div>"
      ],
      "text/plain": [
       "    age    bp     sg   al   su    bgr    bu   sc    sod  pot  ...        pc  \\\n",
       "0  48.0  80.0  1.020  1.0  0.0  121.0  36.0  1.2    NaN  NaN  ...    normal   \n",
       "1   7.0  50.0  1.020  4.0  0.0    NaN  18.0  0.8    NaN  NaN  ...    normal   \n",
       "2  62.0  80.0  1.010  2.0  3.0  423.0  53.0  1.8    NaN  NaN  ...    normal   \n",
       "3  48.0  70.0  1.005  4.0  0.0  117.0  56.0  3.8  111.0  2.5  ...  abnormal   \n",
       "4  51.0  80.0  1.010  2.0  0.0  106.0  26.0  1.4    NaN  NaN  ...    normal   \n",
       "\n",
       "          pcc          ba  htn   dm cad appet   pe  ane class  \n",
       "0  notpresent  notpresent  yes  yes  no  good   no   no   ckd  \n",
       "1  notpresent  notpresent   no   no  no  good   no   no   ckd  \n",
       "2  notpresent  notpresent   no  yes  no  poor   no  yes   ckd  \n",
       "3     present  notpresent  yes   no  no  poor  yes  yes   ckd  \n",
       "4  notpresent  notpresent   no   no  no  good   no   no   ckd  \n",
       "\n",
       "[5 rows x 25 columns]"
      ]
     },
     "execution_count": 166,
     "metadata": {},
     "output_type": "execute_result"
    }
   ],
   "source": [
    "df.head()"
   ]
  },
  {
   "cell_type": "code",
   "execution_count": 167,
   "id": "459bd534",
   "metadata": {},
   "outputs": [],
   "source": [
    "label_encoder = preprocessing.LabelEncoder()\n",
    "for i  in categorical_df:\n",
    "    df[i]= label_encoder.fit_transform(df[i])"
   ]
  },
  {
   "cell_type": "code",
   "execution_count": 168,
   "id": "1bac25ba",
   "metadata": {},
   "outputs": [
    {
     "data": {
      "text/html": [
       "<div>\n",
       "<style scoped>\n",
       "    .dataframe tbody tr th:only-of-type {\n",
       "        vertical-align: middle;\n",
       "    }\n",
       "\n",
       "    .dataframe tbody tr th {\n",
       "        vertical-align: top;\n",
       "    }\n",
       "\n",
       "    .dataframe thead th {\n",
       "        text-align: right;\n",
       "    }\n",
       "</style>\n",
       "<table border=\"1\" class=\"dataframe\">\n",
       "  <thead>\n",
       "    <tr style=\"text-align: right;\">\n",
       "      <th></th>\n",
       "      <th>age</th>\n",
       "      <th>bp</th>\n",
       "      <th>sg</th>\n",
       "      <th>al</th>\n",
       "      <th>su</th>\n",
       "      <th>bgr</th>\n",
       "      <th>bu</th>\n",
       "      <th>sc</th>\n",
       "      <th>sod</th>\n",
       "      <th>pot</th>\n",
       "      <th>...</th>\n",
       "      <th>pc</th>\n",
       "      <th>pcc</th>\n",
       "      <th>ba</th>\n",
       "      <th>htn</th>\n",
       "      <th>dm</th>\n",
       "      <th>cad</th>\n",
       "      <th>appet</th>\n",
       "      <th>pe</th>\n",
       "      <th>ane</th>\n",
       "      <th>class</th>\n",
       "    </tr>\n",
       "  </thead>\n",
       "  <tbody>\n",
       "    <tr>\n",
       "      <th>0</th>\n",
       "      <td>48.0</td>\n",
       "      <td>80.0</td>\n",
       "      <td>1.020</td>\n",
       "      <td>1.0</td>\n",
       "      <td>0.0</td>\n",
       "      <td>121.0</td>\n",
       "      <td>36.0</td>\n",
       "      <td>1.2</td>\n",
       "      <td>NaN</td>\n",
       "      <td>NaN</td>\n",
       "      <td>...</td>\n",
       "      <td>1</td>\n",
       "      <td>0</td>\n",
       "      <td>0</td>\n",
       "      <td>1</td>\n",
       "      <td>1</td>\n",
       "      <td>0</td>\n",
       "      <td>0</td>\n",
       "      <td>0</td>\n",
       "      <td>0</td>\n",
       "      <td>0</td>\n",
       "    </tr>\n",
       "    <tr>\n",
       "      <th>1</th>\n",
       "      <td>7.0</td>\n",
       "      <td>50.0</td>\n",
       "      <td>1.020</td>\n",
       "      <td>4.0</td>\n",
       "      <td>0.0</td>\n",
       "      <td>NaN</td>\n",
       "      <td>18.0</td>\n",
       "      <td>0.8</td>\n",
       "      <td>NaN</td>\n",
       "      <td>NaN</td>\n",
       "      <td>...</td>\n",
       "      <td>1</td>\n",
       "      <td>0</td>\n",
       "      <td>0</td>\n",
       "      <td>0</td>\n",
       "      <td>0</td>\n",
       "      <td>0</td>\n",
       "      <td>0</td>\n",
       "      <td>0</td>\n",
       "      <td>0</td>\n",
       "      <td>0</td>\n",
       "    </tr>\n",
       "    <tr>\n",
       "      <th>2</th>\n",
       "      <td>62.0</td>\n",
       "      <td>80.0</td>\n",
       "      <td>1.010</td>\n",
       "      <td>2.0</td>\n",
       "      <td>3.0</td>\n",
       "      <td>423.0</td>\n",
       "      <td>53.0</td>\n",
       "      <td>1.8</td>\n",
       "      <td>NaN</td>\n",
       "      <td>NaN</td>\n",
       "      <td>...</td>\n",
       "      <td>1</td>\n",
       "      <td>0</td>\n",
       "      <td>0</td>\n",
       "      <td>0</td>\n",
       "      <td>1</td>\n",
       "      <td>0</td>\n",
       "      <td>1</td>\n",
       "      <td>0</td>\n",
       "      <td>1</td>\n",
       "      <td>0</td>\n",
       "    </tr>\n",
       "    <tr>\n",
       "      <th>3</th>\n",
       "      <td>48.0</td>\n",
       "      <td>70.0</td>\n",
       "      <td>1.005</td>\n",
       "      <td>4.0</td>\n",
       "      <td>0.0</td>\n",
       "      <td>117.0</td>\n",
       "      <td>56.0</td>\n",
       "      <td>3.8</td>\n",
       "      <td>111.0</td>\n",
       "      <td>2.5</td>\n",
       "      <td>...</td>\n",
       "      <td>0</td>\n",
       "      <td>1</td>\n",
       "      <td>0</td>\n",
       "      <td>1</td>\n",
       "      <td>0</td>\n",
       "      <td>0</td>\n",
       "      <td>1</td>\n",
       "      <td>1</td>\n",
       "      <td>1</td>\n",
       "      <td>0</td>\n",
       "    </tr>\n",
       "    <tr>\n",
       "      <th>4</th>\n",
       "      <td>51.0</td>\n",
       "      <td>80.0</td>\n",
       "      <td>1.010</td>\n",
       "      <td>2.0</td>\n",
       "      <td>0.0</td>\n",
       "      <td>106.0</td>\n",
       "      <td>26.0</td>\n",
       "      <td>1.4</td>\n",
       "      <td>NaN</td>\n",
       "      <td>NaN</td>\n",
       "      <td>...</td>\n",
       "      <td>1</td>\n",
       "      <td>0</td>\n",
       "      <td>0</td>\n",
       "      <td>0</td>\n",
       "      <td>0</td>\n",
       "      <td>0</td>\n",
       "      <td>0</td>\n",
       "      <td>0</td>\n",
       "      <td>0</td>\n",
       "      <td>0</td>\n",
       "    </tr>\n",
       "  </tbody>\n",
       "</table>\n",
       "<p>5 rows × 25 columns</p>\n",
       "</div>"
      ],
      "text/plain": [
       "    age    bp     sg   al   su    bgr    bu   sc    sod  pot  ...  pc  pcc  \\\n",
       "0  48.0  80.0  1.020  1.0  0.0  121.0  36.0  1.2    NaN  NaN  ...   1    0   \n",
       "1   7.0  50.0  1.020  4.0  0.0    NaN  18.0  0.8    NaN  NaN  ...   1    0   \n",
       "2  62.0  80.0  1.010  2.0  3.0  423.0  53.0  1.8    NaN  NaN  ...   1    0   \n",
       "3  48.0  70.0  1.005  4.0  0.0  117.0  56.0  3.8  111.0  2.5  ...   0    1   \n",
       "4  51.0  80.0  1.010  2.0  0.0  106.0  26.0  1.4    NaN  NaN  ...   1    0   \n",
       "\n",
       "   ba  htn  dm  cad  appet  pe  ane  class  \n",
       "0   0    1   1    0      0   0    0      0  \n",
       "1   0    0   0    0      0   0    0      0  \n",
       "2   0    0   1    0      1   0    1      0  \n",
       "3   0    1   0    0      1   1    1      0  \n",
       "4   0    0   0    0      0   0    0      0  \n",
       "\n",
       "[5 rows x 25 columns]"
      ]
     },
     "execution_count": 168,
     "metadata": {},
     "output_type": "execute_result"
    }
   ],
   "source": [
    "df.head()"
   ]
  },
  {
   "cell_type": "code",
   "execution_count": 169,
   "id": "7da3f84b",
   "metadata": {},
   "outputs": [
    {
     "data": {
      "text/plain": [
       "<Figure size 432x288 with 0 Axes>"
      ]
     },
     "metadata": {},
     "output_type": "display_data"
    },
    {
     "data": {
      "image/png": "[encoded data removed]",
      "text/plain": [
       "<Figure size 720x360 with 1 Axes>"
      ]
     },
     "metadata": {
      "needs_background": "light"
     },
     "output_type": "display_data"
    },
    {
     "data": {
      "text/plain": [
       "<Figure size 432x288 with 0 Axes>"
      ]
     },
     "metadata": {},
     "output_type": "display_data"
    },
    {
     "data": {
      "image/png": "[encoded data removed]",
      "text/plain": [
       "<Figure size 720x360 with 1 Axes>"
      ]
     },
     "metadata": {
      "needs_background": "light"
     },
     "output_type": "display_data"
    },
    {
     "data": {
      "text/plain": [
       "<Figure size 432x288 with 0 Axes>"
      ]
     },
     "metadata": {},
     "output_type": "display_data"
    },
    {
     "data": {
      "image/png": "[encoded data removed]",
      "text/plain": [
       "<Figure size 720x360 with 1 Axes>"
      ]
     },
     "metadata": {
      "needs_background": "light"
     },
     "output_type": "display_data"
    },
    {
     "data": {
      "text/plain": [
       "<Figure size 432x288 with 0 Axes>"
      ]
     },
     "metadata": {},
     "output_type": "display_data"
    },
    {
     "data": {
      "image/png": "[encoded data removed]",
      "text/plain": [
       "<Figure size 720x360 with 1 Axes>"
      ]
     },
     "metadata": {
      "needs_background": "light"
     },
     "output_type": "display_data"
    },
    {
     "data": {
      "text/plain": [
       "<Figure size 432x288 with 0 Axes>"
      ]
     },
     "metadata": {},
     "output_type": "display_data"
    },
    {
     "data": {
      "image/png": "[encoded data removed]",
      "text/plain": [
       "<Figure size 720x360 with 1 Axes>"
      ]
     },
     "metadata": {
      "needs_background": "light"
     },
     "output_type": "display_data"
    },
    {
     "data": {
      "text/plain": [
       "<Figure size 432x288 with 0 Axes>"
      ]
     },
     "metadata": {},
     "output_type": "display_data"
    },
    {
     "data": {
      "image/png": "[encoded data removed]",
      "text/plain": [
       "<Figure size 720x360 with 1 Axes>"
      ]
     },
     "metadata": {
      "needs_background": "light"
     },
     "output_type": "display_data"
    },
    {
     "data": {
      "text/plain": [
       "<Figure size 432x288 with 0 Axes>"
      ]
     },
     "metadata": {},
     "output_type": "display_data"
    },
    {
     "data": {
      "image/png": "[encoded data removed]",
      "text/plain": [
       "<Figure size 720x360 with 1 Axes>"
      ]
     },
     "metadata": {
      "needs_background": "light"
     },
     "output_type": "display_data"
    },
    {
     "data": {
      "text/plain": [
       "<Figure size 432x288 with 0 Axes>"
      ]
     },
     "metadata": {},
     "output_type": "display_data"
    },
    {
     "data": {
      "image/png": "[encoded data removed]",
      "text/plain": [
       "<Figure size 720x360 with 1 Axes>"
      ]
     },
     "metadata": {
      "needs_background": "light"
     },
     "output_type": "display_data"
    },
    {
     "data": {
      "text/plain": [
       "<Figure size 432x288 with 0 Axes>"
      ]
     },
     "metadata": {},
     "output_type": "display_data"
    },
    {
     "data": {
      "image/png": "[encoded data removed]",
      "text/plain": [
       "<Figure size 720x360 with 1 Axes>"
      ]
     },
     "metadata": {
      "needs_background": "light"
     },
     "output_type": "display_data"
    },
    {
     "data": {
      "text/plain": [
       "<Figure size 432x288 with 0 Axes>"
      ]
     },
     "metadata": {},
     "output_type": "display_data"
    },
    {
     "data": {
      "image/png": "[encoded data removed]",
      "text/plain": [
       "<Figure size 720x360 with 1 Axes>"
      ]
     },
     "metadata": {
      "needs_background": "light"
     },
     "output_type": "display_data"
    },
    {
     "data": {
      "text/plain": [
       "<Figure size 432x288 with 0 Axes>"
      ]
     },
     "metadata": {},
     "output_type": "display_data"
    },
    {
     "data": {
      "image/png": "[encoded data removed]",
      "text/plain": [
       "<Figure size 720x360 with 1 Axes>"
      ]
     },
     "metadata": {
      "needs_background": "light"
     },
     "output_type": "display_data"
    },
    {
     "data": {
      "text/plain": [
       "<Figure size 432x288 with 0 Axes>"
      ]
     },
     "metadata": {},
     "output_type": "display_data"
    },
    {
     "data": {
      "image/png": "[encoded data removed]",
      "text/plain": [
       "<Figure size 720x360 with 1 Axes>"
      ]
     },
     "metadata": {
      "needs_background": "light"
     },
     "output_type": "display_data"
    },
    {
     "data": {
      "text/plain": [
       "<Figure size 432x288 with 0 Axes>"
      ]
     },
     "metadata": {},
     "output_type": "display_data"
    },
    {
     "data": {
      "image/png": "[encoded data removed]",
      "text/plain": [
       "<Figure size 720x360 with 1 Axes>"
      ]
     },
     "metadata": {
      "needs_background": "light"
     },
     "output_type": "display_data"
    },
    {
     "data": {
      "text/plain": [
       "<Figure size 432x288 with 0 Axes>"
      ]
     },
     "metadata": {},
     "output_type": "display_data"
    },
    {
     "data": {
      "image/png": "[encoded data removed]",
      "text/plain": [
       "<Figure size 720x360 with 1 Axes>"
      ]
     },
     "metadata": {
      "needs_background": "light"
     },
     "output_type": "display_data"
    }
   ],
   "source": [
    "new_data=df\n",
    "plt.figure(7)\n",
    "fig = plt.figure(figsize=(10,5))\n",
    "sns.boxplot(x=new_data['age'])\n",
    "plt.title('Box Plot: age', fontsize=15)\n",
    "plt.xlabel('age', fontsize=14)\n",
    "plt.show()\n",
    "\n",
    "plt.figure(7)\n",
    "fig = plt.figure(figsize=(10,5))\n",
    "sns.boxplot(x=new_data['bp'])\n",
    "plt.title('Box Plot: bp', fontsize=15)\n",
    "plt.xlabel('bp', fontsize=14)\n",
    "plt.show()\n",
    "\n",
    "plt.figure(7)\n",
    "fig = plt.figure(figsize=(10,5))\n",
    "sns.boxplot(x=new_data['sg'])\n",
    "plt.title('Box Plot: sg', fontsize=15)\n",
    "plt.xlabel('sg', fontsize=14)\n",
    "plt.show()\n",
    "\n",
    "plt.figure(7)\n",
    "fig = plt.figure(figsize=(10,5))\n",
    "sns.boxplot(x=new_data['al'])\n",
    "plt.title('Box Plot: al', fontsize=15)\n",
    "plt.xlabel('al', fontsize=14)\n",
    "plt.show()\n",
    "\n",
    "plt.figure(7)\n",
    "fig = plt.figure(figsize=(10,5))\n",
    "sns.boxplot(x=new_data['su'])\n",
    "plt.title('Box Plot: su', fontsize=15)\n",
    "plt.xlabel('su', fontsize=14)\n",
    "plt.show()\n",
    "\n",
    "plt.figure(7)\n",
    "fig = plt.figure(figsize=(10,5))\n",
    "sns.boxplot(x=new_data['bgr'])\n",
    "plt.title('Box Plot: bgr', fontsize=15)\n",
    "plt.xlabel('bgr', fontsize=14)\n",
    "plt.show()\n",
    "\n",
    "plt.figure(7)\n",
    "fig = plt.figure(figsize=(10,5))\n",
    "sns.boxplot(x=new_data['bu'])\n",
    "plt.title('Box Plot:bu', fontsize=15)\n",
    "plt.xlabel('bu', fontsize=14)\n",
    "plt.show()\n",
    "\n",
    "plt.figure(7)\n",
    "fig = plt.figure(figsize=(10,5))\n",
    "sns.boxplot(x=new_data['sc'])\n",
    "plt.title('Box Plot: sc', fontsize=15)\n",
    "plt.xlabel('sc', fontsize=14)\n",
    "plt.show()\n",
    "\n",
    "plt.figure(7)\n",
    "fig = plt.figure(figsize=(10,5))\n",
    "sns.boxplot(x=new_data['sod'])\n",
    "plt.title('Box Plot: sod', fontsize=15)\n",
    "plt.xlabel('sod', fontsize=14)\n",
    "plt.show()\n",
    "\n",
    "plt.figure(7)\n",
    "fig = plt.figure(figsize=(10,5))\n",
    "sns.boxplot(x=new_data['pot'])\n",
    "plt.title('Box Plot: pot', fontsize=15)\n",
    "plt.xlabel('pot', fontsize=14)\n",
    "plt.show()\n",
    "\n",
    "plt.figure(7)\n",
    "fig = plt.figure(figsize=(10,5))\n",
    "sns.boxplot(x=new_data['hemo'])\n",
    "plt.title('Box Plot: hemo', fontsize=15)\n",
    "plt.xlabel('hemo', fontsize=14)\n",
    "plt.show()\n",
    "\n",
    "plt.figure(7)\n",
    "fig = plt.figure(figsize=(10,5))\n",
    "sns.boxplot(x=new_data['pcv'])\n",
    "plt.title('Box Plot: pcv', fontsize=15)\n",
    "plt.xlabel('pcv', fontsize=14)\n",
    "plt.show()\n",
    "\n",
    "plt.figure(7)\n",
    "fig = plt.figure(figsize=(10,5))\n",
    "sns.boxplot(x=new_data['wbcc'])\n",
    "plt.title('Box Plot: wbcc', fontsize=15)\n",
    "plt.xlabel('wbcc', fontsize=14)\n",
    "plt.show()\n",
    "\n",
    "plt.figure(7)\n",
    "fig = plt.figure(figsize=(10,5))\n",
    "sns.boxplot(x=new_data['rbcc'])\n",
    "plt.title('Box Plot: rbcc', fontsize=15)\n",
    "plt.xlabel('rbcc', fontsize=14)\n",
    "plt.show()\n",
    "\n",
    "\n",
    "\n",
    "\n",
    "\n"
   ]
  },
  {
   "cell_type": "code",
   "execution_count": 170,
   "id": "d855e721",
   "metadata": {},
   "outputs": [],
   "source": [
    "from sklearn.impute import KNNImputer"
   ]
  },
  {
   "cell_type": "code",
   "execution_count": 171,
   "id": "cc3874a5",
   "metadata": {},
   "outputs": [],
   "source": [
    "from sklearn.impute import KNNImputer\n",
    "from sklearn.model_selection import train_test_split\n",
    "from sklearn.ensemble import RandomForestRegressor\n",
    "from sklearn.metrics import mean_squared_error"
   ]
  },
  {
   "cell_type": "code",
   "execution_count": 172,
   "id": "760e9e36",
   "metadata": {},
   "outputs": [],
   "source": [
    "rmse = lambda y, yhat: np.sqrt(mean_squared_error(y, yhat))"
   ]
  },
  {
   "cell_type": "code",
   "execution_count": 173,
   "id": "5e561aec",
   "metadata": {},
   "outputs": [
    {
     "data": {
      "text/plain": [
       "Index(['age', 'bp', 'sg', 'al', 'su', 'bgr', 'bu', 'sc', 'sod', 'pot', 'hemo',\n",
       "       'pcv', 'wbcc', 'rbcc', 'rbc', 'pc', 'pcc', 'ba', 'htn', 'dm', 'cad',\n",
       "       'appet', 'pe', 'ane', 'class'],\n",
       "      dtype='object')"
      ]
     },
     "execution_count": 173,
     "metadata": {},
     "output_type": "execute_result"
    }
   ],
   "source": [
    "df.columns"
   ]
  },
  {
   "cell_type": "code",
   "execution_count": 174,
   "id": "382ceb0a",
   "metadata": {},
   "outputs": [],
   "source": [
    "def optimize_k(data, target):\n",
    "    errors = []\n",
    "    for k in range(1, 20):\n",
    "        imputer = KNNImputer(n_neighbors=k)\n",
    "        imputed = imputer.fit_transform(data)\n",
    "        df_imputed = pd.DataFrame(imputed, columns=df.columns)\n",
    "        \n",
    "        X = df_imputed.drop(target, axis=1)\n",
    "        y = df_imputed[target]\n",
    "        X_train, X_test, y_train, y_test = train_test_split(X, y, test_size=0.3, random_state=42)\n",
    "        model = RandomForestRegressor()\n",
    "        model.fit(X_train, y_train)\n",
    "        preds = model.predict(X_test)\n",
    "        error = rmse(y_test, preds)\n",
    "        errors.append({'K': k, 'RMSE': error})\n",
    "        \n",
    "    return errors"
   ]
  },
  {
   "cell_type": "code",
   "execution_count": 175,
   "id": "736baf39",
   "metadata": {},
   "outputs": [
    {
     "name": "stdout",
     "output_type": "stream",
     "text": [
      "[{'K': 1, 'RMSE': 0.08714929718592113}, {'K': 2, 'RMSE': 0.09444575162494076}, {'K': 3, 'RMSE': 0.10821275340735029}, {'K': 4, 'RMSE': 0.11430952132988165}, {'K': 5, 'RMSE': 0.12374368670764582}, {'K': 6, 'RMSE': 0.1230616376726178}, {'K': 7, 'RMSE': 0.11926511085253166}, {'K': 8, 'RMSE': 0.12096487093367231}, {'K': 9, 'RMSE': 0.12936382802004587}, {'K': 10, 'RMSE': 0.12267164844956364}, {'K': 11, 'RMSE': 0.12497999839974394}, {'K': 12, 'RMSE': 0.13112017388640088}, {'K': 13, 'RMSE': 0.1270170592217177}, {'K': 14, 'RMSE': 0.12519318405301996}, {'K': 15, 'RMSE': 0.12886685635440429}, {'K': 16, 'RMSE': 0.12300067750490916}, {'K': 17, 'RMSE': 0.1171501885046143}, {'K': 18, 'RMSE': 0.1257079949724758}, {'K': 19, 'RMSE': 0.12315302134607443}]\n"
     ]
    }
   ],
   "source": [
    "k_errors = optimize_k(data=df, target='class')\n",
    "print(k_errors)"
   ]
  },
  {
   "cell_type": "code",
   "execution_count": 176,
   "id": "d72edc52",
   "metadata": {},
   "outputs": [
    {
     "data": {
      "text/html": [
       "<div>\n",
       "<style scoped>\n",
       "    .dataframe tbody tr th:only-of-type {\n",
       "        vertical-align: middle;\n",
       "    }\n",
       "\n",
       "    .dataframe tbody tr th {\n",
       "        vertical-align: top;\n",
       "    }\n",
       "\n",
       "    .dataframe thead th {\n",
       "        text-align: right;\n",
       "    }\n",
       "</style>\n",
       "<table border=\"1\" class=\"dataframe\">\n",
       "  <thead>\n",
       "    <tr style=\"text-align: right;\">\n",
       "      <th></th>\n",
       "      <th>age</th>\n",
       "      <th>bp</th>\n",
       "      <th>sg</th>\n",
       "      <th>al</th>\n",
       "      <th>su</th>\n",
       "      <th>bgr</th>\n",
       "      <th>bu</th>\n",
       "      <th>sc</th>\n",
       "      <th>sod</th>\n",
       "      <th>pot</th>\n",
       "      <th>...</th>\n",
       "      <th>pc</th>\n",
       "      <th>pcc</th>\n",
       "      <th>ba</th>\n",
       "      <th>htn</th>\n",
       "      <th>dm</th>\n",
       "      <th>cad</th>\n",
       "      <th>appet</th>\n",
       "      <th>pe</th>\n",
       "      <th>ane</th>\n",
       "      <th>class</th>\n",
       "    </tr>\n",
       "  </thead>\n",
       "  <tbody>\n",
       "    <tr>\n",
       "      <th>0</th>\n",
       "      <td>48.0</td>\n",
       "      <td>80.0</td>\n",
       "      <td>1.020</td>\n",
       "      <td>1.0</td>\n",
       "      <td>0.0</td>\n",
       "      <td>121.0</td>\n",
       "      <td>36.0</td>\n",
       "      <td>1.2</td>\n",
       "      <td>NaN</td>\n",
       "      <td>NaN</td>\n",
       "      <td>...</td>\n",
       "      <td>1</td>\n",
       "      <td>0</td>\n",
       "      <td>0</td>\n",
       "      <td>1</td>\n",
       "      <td>1</td>\n",
       "      <td>0</td>\n",
       "      <td>0</td>\n",
       "      <td>0</td>\n",
       "      <td>0</td>\n",
       "      <td>0</td>\n",
       "    </tr>\n",
       "    <tr>\n",
       "      <th>1</th>\n",
       "      <td>7.0</td>\n",
       "      <td>50.0</td>\n",
       "      <td>1.020</td>\n",
       "      <td>4.0</td>\n",
       "      <td>0.0</td>\n",
       "      <td>NaN</td>\n",
       "      <td>18.0</td>\n",
       "      <td>0.8</td>\n",
       "      <td>NaN</td>\n",
       "      <td>NaN</td>\n",
       "      <td>...</td>\n",
       "      <td>1</td>\n",
       "      <td>0</td>\n",
       "      <td>0</td>\n",
       "      <td>0</td>\n",
       "      <td>0</td>\n",
       "      <td>0</td>\n",
       "      <td>0</td>\n",
       "      <td>0</td>\n",
       "      <td>0</td>\n",
       "      <td>0</td>\n",
       "    </tr>\n",
       "    <tr>\n",
       "      <th>2</th>\n",
       "      <td>62.0</td>\n",
       "      <td>80.0</td>\n",
       "      <td>1.010</td>\n",
       "      <td>2.0</td>\n",
       "      <td>3.0</td>\n",
       "      <td>423.0</td>\n",
       "      <td>53.0</td>\n",
       "      <td>1.8</td>\n",
       "      <td>NaN</td>\n",
       "      <td>NaN</td>\n",
       "      <td>...</td>\n",
       "      <td>1</td>\n",
       "      <td>0</td>\n",
       "      <td>0</td>\n",
       "      <td>0</td>\n",
       "      <td>1</td>\n",
       "      <td>0</td>\n",
       "      <td>1</td>\n",
       "      <td>0</td>\n",
       "      <td>1</td>\n",
       "      <td>0</td>\n",
       "    </tr>\n",
       "    <tr>\n",
       "      <th>3</th>\n",
       "      <td>48.0</td>\n",
       "      <td>70.0</td>\n",
       "      <td>1.005</td>\n",
       "      <td>4.0</td>\n",
       "      <td>0.0</td>\n",
       "      <td>117.0</td>\n",
       "      <td>56.0</td>\n",
       "      <td>3.8</td>\n",
       "      <td>111.0</td>\n",
       "      <td>2.5</td>\n",
       "      <td>...</td>\n",
       "      <td>0</td>\n",
       "      <td>1</td>\n",
       "      <td>0</td>\n",
       "      <td>1</td>\n",
       "      <td>0</td>\n",
       "      <td>0</td>\n",
       "      <td>1</td>\n",
       "      <td>1</td>\n",
       "      <td>1</td>\n",
       "      <td>0</td>\n",
       "    </tr>\n",
       "    <tr>\n",
       "      <th>4</th>\n",
       "      <td>51.0</td>\n",
       "      <td>80.0</td>\n",
       "      <td>1.010</td>\n",
       "      <td>2.0</td>\n",
       "      <td>0.0</td>\n",
       "      <td>106.0</td>\n",
       "      <td>26.0</td>\n",
       "      <td>1.4</td>\n",
       "      <td>NaN</td>\n",
       "      <td>NaN</td>\n",
       "      <td>...</td>\n",
       "      <td>1</td>\n",
       "      <td>0</td>\n",
       "      <td>0</td>\n",
       "      <td>0</td>\n",
       "      <td>0</td>\n",
       "      <td>0</td>\n",
       "      <td>0</td>\n",
       "      <td>0</td>\n",
       "      <td>0</td>\n",
       "      <td>0</td>\n",
       "    </tr>\n",
       "  </tbody>\n",
       "</table>\n",
       "<p>5 rows × 25 columns</p>\n",
       "</div>"
      ],
      "text/plain": [
       "    age    bp     sg   al   su    bgr    bu   sc    sod  pot  ...  pc  pcc  \\\n",
       "0  48.0  80.0  1.020  1.0  0.0  121.0  36.0  1.2    NaN  NaN  ...   1    0   \n",
       "1   7.0  50.0  1.020  4.0  0.0    NaN  18.0  0.8    NaN  NaN  ...   1    0   \n",
       "2  62.0  80.0  1.010  2.0  3.0  423.0  53.0  1.8    NaN  NaN  ...   1    0   \n",
       "3  48.0  70.0  1.005  4.0  0.0  117.0  56.0  3.8  111.0  2.5  ...   0    1   \n",
       "4  51.0  80.0  1.010  2.0  0.0  106.0  26.0  1.4    NaN  NaN  ...   1    0   \n",
       "\n",
       "   ba  htn  dm  cad  appet  pe  ane  class  \n",
       "0   0    1   1    0      0   0    0      0  \n",
       "1   0    0   0    0      0   0    0      0  \n",
       "2   0    0   1    0      1   0    1      0  \n",
       "3   0    1   0    0      1   1    1      0  \n",
       "4   0    0   0    0      0   0    0      0  \n",
       "\n",
       "[5 rows x 25 columns]"
      ]
     },
     "execution_count": 176,
     "metadata": {},
     "output_type": "execute_result"
    }
   ],
   "source": [
    "df.head()"
   ]
  },
  {
   "cell_type": "code",
   "execution_count": 177,
   "id": "dab318d0",
   "metadata": {},
   "outputs": [],
   "source": [
    "#akal wahda fiha error 1 donc bech nekhdmou knn bel 1\n",
    "KNN=KNNImputer(weights='distance', n_neighbors=3)\n",
    "data_after_knn=KNN.fit_transform(df)\n",
    "df=pd.DataFrame(data_after_knn,columns=df.columns)\n"
   ]
  },
  {
   "cell_type": "code",
   "execution_count": 178,
   "id": "9f6dc2c3",
   "metadata": {},
   "outputs": [
    {
     "data": {
      "text/html": [
       "<div>\n",
       "<style scoped>\n",
       "    .dataframe tbody tr th:only-of-type {\n",
       "        vertical-align: middle;\n",
       "    }\n",
       "\n",
       "    .dataframe tbody tr th {\n",
       "        vertical-align: top;\n",
       "    }\n",
       "\n",
       "    .dataframe thead th {\n",
       "        text-align: right;\n",
       "    }\n",
       "</style>\n",
       "<table border=\"1\" class=\"dataframe\">\n",
       "  <thead>\n",
       "    <tr style=\"text-align: right;\">\n",
       "      <th></th>\n",
       "      <th>age</th>\n",
       "      <th>bp</th>\n",
       "      <th>sg</th>\n",
       "      <th>al</th>\n",
       "      <th>su</th>\n",
       "      <th>bgr</th>\n",
       "      <th>bu</th>\n",
       "      <th>sc</th>\n",
       "      <th>sod</th>\n",
       "      <th>pot</th>\n",
       "      <th>...</th>\n",
       "      <th>pc</th>\n",
       "      <th>pcc</th>\n",
       "      <th>ba</th>\n",
       "      <th>htn</th>\n",
       "      <th>dm</th>\n",
       "      <th>cad</th>\n",
       "      <th>appet</th>\n",
       "      <th>pe</th>\n",
       "      <th>ane</th>\n",
       "      <th>class</th>\n",
       "    </tr>\n",
       "  </thead>\n",
       "  <tbody>\n",
       "    <tr>\n",
       "      <th>0</th>\n",
       "      <td>48.0</td>\n",
       "      <td>80.0</td>\n",
       "      <td>1.020</td>\n",
       "      <td>1.0</td>\n",
       "      <td>0.0</td>\n",
       "      <td>121.000000</td>\n",
       "      <td>36.0</td>\n",
       "      <td>1.2</td>\n",
       "      <td>138.794403</td>\n",
       "      <td>4.481559</td>\n",
       "      <td>...</td>\n",
       "      <td>1.0</td>\n",
       "      <td>0.0</td>\n",
       "      <td>0.0</td>\n",
       "      <td>1.0</td>\n",
       "      <td>1.0</td>\n",
       "      <td>0.0</td>\n",
       "      <td>0.0</td>\n",
       "      <td>0.0</td>\n",
       "      <td>0.0</td>\n",
       "      <td>0.0</td>\n",
       "    </tr>\n",
       "    <tr>\n",
       "      <th>1</th>\n",
       "      <td>7.0</td>\n",
       "      <td>50.0</td>\n",
       "      <td>1.020</td>\n",
       "      <td>4.0</td>\n",
       "      <td>0.0</td>\n",
       "      <td>107.005594</td>\n",
       "      <td>18.0</td>\n",
       "      <td>0.8</td>\n",
       "      <td>137.674750</td>\n",
       "      <td>3.773504</td>\n",
       "      <td>...</td>\n",
       "      <td>1.0</td>\n",
       "      <td>0.0</td>\n",
       "      <td>0.0</td>\n",
       "      <td>0.0</td>\n",
       "      <td>0.0</td>\n",
       "      <td>0.0</td>\n",
       "      <td>0.0</td>\n",
       "      <td>0.0</td>\n",
       "      <td>0.0</td>\n",
       "      <td>0.0</td>\n",
       "    </tr>\n",
       "    <tr>\n",
       "      <th>2</th>\n",
       "      <td>62.0</td>\n",
       "      <td>80.0</td>\n",
       "      <td>1.010</td>\n",
       "      <td>2.0</td>\n",
       "      <td>3.0</td>\n",
       "      <td>423.000000</td>\n",
       "      <td>53.0</td>\n",
       "      <td>1.8</td>\n",
       "      <td>132.000000</td>\n",
       "      <td>4.400633</td>\n",
       "      <td>...</td>\n",
       "      <td>1.0</td>\n",
       "      <td>0.0</td>\n",
       "      <td>0.0</td>\n",
       "      <td>0.0</td>\n",
       "      <td>1.0</td>\n",
       "      <td>0.0</td>\n",
       "      <td>1.0</td>\n",
       "      <td>0.0</td>\n",
       "      <td>1.0</td>\n",
       "      <td>0.0</td>\n",
       "    </tr>\n",
       "    <tr>\n",
       "      <th>3</th>\n",
       "      <td>48.0</td>\n",
       "      <td>70.0</td>\n",
       "      <td>1.005</td>\n",
       "      <td>4.0</td>\n",
       "      <td>0.0</td>\n",
       "      <td>117.000000</td>\n",
       "      <td>56.0</td>\n",
       "      <td>3.8</td>\n",
       "      <td>111.000000</td>\n",
       "      <td>2.500000</td>\n",
       "      <td>...</td>\n",
       "      <td>0.0</td>\n",
       "      <td>1.0</td>\n",
       "      <td>0.0</td>\n",
       "      <td>1.0</td>\n",
       "      <td>0.0</td>\n",
       "      <td>0.0</td>\n",
       "      <td>1.0</td>\n",
       "      <td>1.0</td>\n",
       "      <td>1.0</td>\n",
       "      <td>0.0</td>\n",
       "    </tr>\n",
       "    <tr>\n",
       "      <th>4</th>\n",
       "      <td>51.0</td>\n",
       "      <td>80.0</td>\n",
       "      <td>1.010</td>\n",
       "      <td>2.0</td>\n",
       "      <td>0.0</td>\n",
       "      <td>106.000000</td>\n",
       "      <td>26.0</td>\n",
       "      <td>1.4</td>\n",
       "      <td>138.031282</td>\n",
       "      <td>4.260403</td>\n",
       "      <td>...</td>\n",
       "      <td>1.0</td>\n",
       "      <td>0.0</td>\n",
       "      <td>0.0</td>\n",
       "      <td>0.0</td>\n",
       "      <td>0.0</td>\n",
       "      <td>0.0</td>\n",
       "      <td>0.0</td>\n",
       "      <td>0.0</td>\n",
       "      <td>0.0</td>\n",
       "      <td>0.0</td>\n",
       "    </tr>\n",
       "  </tbody>\n",
       "</table>\n",
       "<p>5 rows × 25 columns</p>\n",
       "</div>"
      ],
      "text/plain": [
       "    age    bp     sg   al   su         bgr    bu   sc         sod       pot  \\\n",
       "0  48.0  80.0  1.020  1.0  0.0  121.000000  36.0  1.2  138.794403  4.481559   \n",
       "1   7.0  50.0  1.020  4.0  0.0  107.005594  18.0  0.8  137.674750  3.773504   \n",
       "2  62.0  80.0  1.010  2.0  3.0  423.000000  53.0  1.8  132.000000  4.400633   \n",
       "3  48.0  70.0  1.005  4.0  0.0  117.000000  56.0  3.8  111.000000  2.500000   \n",
       "4  51.0  80.0  1.010  2.0  0.0  106.000000  26.0  1.4  138.031282  4.260403   \n",
       "\n",
       "   ...   pc  pcc   ba  htn   dm  cad  appet   pe  ane  class  \n",
       "0  ...  1.0  0.0  0.0  1.0  1.0  0.0    0.0  0.0  0.0    0.0  \n",
       "1  ...  1.0  0.0  0.0  0.0  0.0  0.0    0.0  0.0  0.0    0.0  \n",
       "2  ...  1.0  0.0  0.0  0.0  1.0  0.0    1.0  0.0  1.0    0.0  \n",
       "3  ...  0.0  1.0  0.0  1.0  0.0  0.0    1.0  1.0  1.0    0.0  \n",
       "4  ...  1.0  0.0  0.0  0.0  0.0  0.0    0.0  0.0  0.0    0.0  \n",
       "\n",
       "[5 rows x 25 columns]"
      ]
     },
     "execution_count": 178,
     "metadata": {},
     "output_type": "execute_result"
    }
   ],
   "source": [
    "df.head()"
   ]
  },
  {
   "cell_type": "code",
   "execution_count": 179,
   "id": "b079e95d",
   "metadata": {},
   "outputs": [
    {
     "data": {
      "text/plain": [
       "<Figure size 432x288 with 0 Axes>"
      ]
     },
     "metadata": {},
     "output_type": "display_data"
    },
    {
     "data": {
      "image/png": "[encoded data removed]",
      "text/plain": [
       "<Figure size 720x360 with 1 Axes>"
      ]
     },
     "metadata": {
      "needs_background": "light"
     },
     "output_type": "display_data"
    },
    {
     "data": {
      "text/plain": [
       "<Figure size 432x288 with 0 Axes>"
      ]
     },
     "metadata": {},
     "output_type": "display_data"
    },
    {
     "data": {
      "image/png": "[encoded data removed]",
      "text/plain": [
       "<Figure size 720x360 with 1 Axes>"
      ]
     },
     "metadata": {
      "needs_background": "light"
     },
     "output_type": "display_data"
    },
    {
     "data": {
      "text/plain": [
       "<Figure size 432x288 with 0 Axes>"
      ]
     },
     "metadata": {},
     "output_type": "display_data"
    },
    {
     "data": {
      "image/png": "[encoded data removed]",
      "text/plain": [
       "<Figure size 720x360 with 1 Axes>"
      ]
     },
     "metadata": {
      "needs_background": "light"
     },
     "output_type": "display_data"
    },
    {
     "data": {
      "text/plain": [
       "<Figure size 432x288 with 0 Axes>"
      ]
     },
     "metadata": {},
     "output_type": "display_data"
    },
    {
     "data": {
      "image/png": "[encoded data removed]",
      "text/plain": [
       "<Figure size 720x360 with 1 Axes>"
      ]
     },
     "metadata": {
      "needs_background": "light"
     },
     "output_type": "display_data"
    },
    {
     "data": {
      "text/plain": [
       "<Figure size 432x288 with 0 Axes>"
      ]
     },
     "metadata": {},
     "output_type": "display_data"
    },
    {
     "data": {
      "image/png": "[encoded data removed]",
      "text/plain": [
       "<Figure size 720x360 with 1 Axes>"
      ]
     },
     "metadata": {
      "needs_background": "light"
     },
     "output_type": "display_data"
    },
    {
     "data": {
      "text/plain": [
       "<Figure size 432x288 with 0 Axes>"
      ]
     },
     "metadata": {},
     "output_type": "display_data"
    },
    {
     "data": {
      "image/png": "[encoded data removed]",
      "text/plain": [
       "<Figure size 720x360 with 1 Axes>"
      ]
     },
     "metadata": {
      "needs_background": "light"
     },
     "output_type": "display_data"
    },
    {
     "data": {
      "text/plain": [
       "<Figure size 432x288 with 0 Axes>"
      ]
     },
     "metadata": {},
     "output_type": "display_data"
    },
    {
     "data": {
      "image/png": "[encoded data removed]",
      "text/plain": [
       "<Figure size 720x360 with 1 Axes>"
      ]
     },
     "metadata": {
      "needs_background": "light"
     },
     "output_type": "display_data"
    },
    {
     "data": {
      "text/plain": [
       "<Figure size 432x288 with 0 Axes>"
      ]
     },
     "metadata": {},
     "output_type": "display_data"
    },
    {
     "data": {
      "image/png": "[encoded data removed]",
      "text/plain": [
       "<Figure size 720x360 with 1 Axes>"
      ]
     },
     "metadata": {
      "needs_background": "light"
     },
     "output_type": "display_data"
    },
    {
     "data": {
      "text/plain": [
       "<Figure size 432x288 with 0 Axes>"
      ]
     },
     "metadata": {},
     "output_type": "display_data"
    },
    {
     "data": {
      "image/png": "[encoded data removed]",
      "text/plain": [
       "<Figure size 720x360 with 1 Axes>"
      ]
     },
     "metadata": {
      "needs_background": "light"
     },
     "output_type": "display_data"
    },
    {
     "data": {
      "text/plain": [
       "<Figure size 432x288 with 0 Axes>"
      ]
     },
     "metadata": {},
     "output_type": "display_data"
    },
    {
     "data": {
      "image/png": "[encoded data removed]",
      "text/plain": [
       "<Figure size 720x360 with 1 Axes>"
      ]
     },
     "metadata": {
      "needs_background": "light"
     },
     "output_type": "display_data"
    },
    {
     "data": {
      "text/plain": [
       "<Figure size 432x288 with 0 Axes>"
      ]
     },
     "metadata": {},
     "output_type": "display_data"
    },
    {
     "data": {
      "image/png": "[encoded data removed]",
      "text/plain": [
       "<Figure size 720x360 with 1 Axes>"
      ]
     },
     "metadata": {
      "needs_background": "light"
     },
     "output_type": "display_data"
    },
    {
     "data": {
      "text/plain": [
       "<Figure size 432x288 with 0 Axes>"
      ]
     },
     "metadata": {},
     "output_type": "display_data"
    },
    {
     "data": {
      "image/png": "[encoded data removed]",
      "text/plain": [
       "<Figure size 720x360 with 1 Axes>"
      ]
     },
     "metadata": {
      "needs_background": "light"
     },
     "output_type": "display_data"
    },
    {
     "data": {
      "text/plain": [
       "<Figure size 432x288 with 0 Axes>"
      ]
     },
     "metadata": {},
     "output_type": "display_data"
    },
    {
     "data": {
      "image/png": "[encoded data removed]",
      "text/plain": [
       "<Figure size 720x360 with 1 Axes>"
      ]
     },
     "metadata": {
      "needs_background": "light"
     },
     "output_type": "display_data"
    },
    {
     "data": {
      "text/plain": [
       "<Figure size 432x288 with 0 Axes>"
      ]
     },
     "metadata": {},
     "output_type": "display_data"
    },
    {
     "data": {
      "image/png": "[encoded data removed]",
      "text/plain": [
       "<Figure size 720x360 with 1 Axes>"
      ]
     },
     "metadata": {
      "needs_background": "light"
     },
     "output_type": "display_data"
    }
   ],
   "source": [
    "new_data=df\n",
    "plt.figure(7)\n",
    "fig = plt.figure(figsize=(10,5))\n",
    "sns.boxplot(x=new_data['age'])\n",
    "plt.title('Box Plot: age', fontsize=15)\n",
    "plt.xlabel('age', fontsize=14)\n",
    "plt.show()\n",
    "\n",
    "plt.figure(7)\n",
    "fig = plt.figure(figsize=(10,5))\n",
    "sns.boxplot(x=new_data['bp'])\n",
    "plt.title('Box Plot: bp', fontsize=15)\n",
    "plt.xlabel('bp', fontsize=14)\n",
    "plt.show()\n",
    "\n",
    "plt.figure(7)\n",
    "fig = plt.figure(figsize=(10,5))\n",
    "sns.boxplot(x=new_data['sg'])\n",
    "plt.title('Box Plot: sg', fontsize=15)\n",
    "plt.xlabel('sg', fontsize=14)\n",
    "plt.show()\n",
    "\n",
    "plt.figure(7)\n",
    "fig = plt.figure(figsize=(10,5))\n",
    "sns.boxplot(x=new_data['al'])\n",
    "plt.title('Box Plot: al', fontsize=15)\n",
    "plt.xlabel('al', fontsize=14)\n",
    "plt.show()\n",
    "\n",
    "plt.figure(7)\n",
    "fig = plt.figure(figsize=(10,5))\n",
    "sns.boxplot(x=new_data['su'])\n",
    "plt.title('Box Plot: su', fontsize=15)\n",
    "plt.xlabel('su', fontsize=14)\n",
    "plt.show()\n",
    "\n",
    "plt.figure(7)\n",
    "fig = plt.figure(figsize=(10,5))\n",
    "sns.boxplot(x=new_data['bgr'])\n",
    "plt.title('Box Plot: bgr', fontsize=15)\n",
    "plt.xlabel('bgr', fontsize=14)\n",
    "plt.show()\n",
    "\n",
    "plt.figure(7)\n",
    "fig = plt.figure(figsize=(10,5))\n",
    "sns.boxplot(x=new_data['bu'])\n",
    "plt.title('Box Plot:bu', fontsize=15)\n",
    "plt.xlabel('bu', fontsize=14)\n",
    "plt.show()\n",
    "\n",
    "plt.figure(7)\n",
    "fig = plt.figure(figsize=(10,5))\n",
    "sns.boxplot(x=new_data['sc'])\n",
    "plt.title('Box Plot: sc', fontsize=15)\n",
    "plt.xlabel('sc', fontsize=14)\n",
    "plt.show()\n",
    "\n",
    "plt.figure(7)\n",
    "fig = plt.figure(figsize=(10,5))\n",
    "sns.boxplot(x=new_data['sod'])\n",
    "plt.title('Box Plot: sod', fontsize=15)\n",
    "plt.xlabel('sod', fontsize=14)\n",
    "plt.show()\n",
    "\n",
    "plt.figure(7)\n",
    "fig = plt.figure(figsize=(10,5))\n",
    "sns.boxplot(x=new_data['pot'])\n",
    "plt.title('Box Plot: pot', fontsize=15)\n",
    "plt.xlabel('pot', fontsize=14)\n",
    "plt.show()\n",
    "\n",
    "plt.figure(7)\n",
    "fig = plt.figure(figsize=(10,5))\n",
    "sns.boxplot(x=new_data['hemo'])\n",
    "plt.title('Box Plot: hemo', fontsize=15)\n",
    "plt.xlabel('hemo', fontsize=14)\n",
    "plt.show()\n",
    "\n",
    "plt.figure(7)\n",
    "fig = plt.figure(figsize=(10,5))\n",
    "sns.boxplot(x=new_data['pcv'])\n",
    "plt.title('Box Plot: pcv', fontsize=15)\n",
    "plt.xlabel('pcv', fontsize=14)\n",
    "plt.show()\n",
    "\n",
    "plt.figure(7)\n",
    "fig = plt.figure(figsize=(10,5))\n",
    "sns.boxplot(x=new_data['wbcc'])\n",
    "plt.title('Box Plot: wbcc', fontsize=15)\n",
    "plt.xlabel('wbcc', fontsize=14)\n",
    "plt.show()\n",
    "\n",
    "plt.figure(7)\n",
    "fig = plt.figure(figsize=(10,5))\n",
    "sns.boxplot(x=new_data['rbcc'])\n",
    "plt.title('Box Plot: rbcc', fontsize=15)\n",
    "plt.xlabel('rbcc', fontsize=14)\n",
    "plt.show()\n",
    "\n",
    "\n",
    "\n",
    "\n",
    "\n"
   ]
  },
  {
   "cell_type": "code",
   "execution_count": 180,
   "id": "f864af3e",
   "metadata": {},
   "outputs": [
    {
     "name": "stdout",
     "output_type": "stream",
     "text": [
      "['age', 'sg', 'bgr', 'sc', 'sod', 'pcv', 'wbcc', 'rbcc']\n"
     ]
    }
   ],
   "source": [
    "features = ['age', 'sg', 'bgr', 'sc', 'sod',\n",
    "       'pcv', 'wbcc', 'rbcc']\n",
    "print(features)\n",
    "\n",
    "def imput_ouliers(df,feature):\n",
    "    q1 = np.percentile(df[feature],25)\n",
    "    q3 = np.percentile(df[feature],75)\n",
    "    iqr = q3 - q1\n",
    "    lower_bound = q1 - 1.5*iqr\n",
    "    upper_bound = q3 + 1.5*iqr\n",
    "    df.loc[df[feature] < lower_bound ,feature ] = lower_bound\n",
    "    df.loc[df[feature] > upper_bound ,feature ] = upper_bound"
   ]
  },
  {
   "cell_type": "code",
   "execution_count": 181,
   "id": "d82ed8d3",
   "metadata": {},
   "outputs": [],
   "source": [
    "for feature in features:\n",
    "    imput_ouliers(df,feature)\n",
    "    \n"
   ]
  },
  {
   "cell_type": "code",
   "execution_count": null,
   "id": "65b80001",
   "metadata": {},
   "outputs": [],
   "source": []
  },
  {
   "cell_type": "code",
   "execution_count": 182,
   "id": "6d4465fc",
   "metadata": {},
   "outputs": [
    {
     "data": {
      "image/png": "[encoded data removed]",
      "text/plain": [
       "<Figure size 360x360 with 2 Axes>"
      ]
     },
     "metadata": {
      "needs_background": "light"
     },
     "output_type": "display_data"
    },
    {
     "name": "stdout",
     "output_type": "stream",
     "text": [
      "KNN accuracy = 97.5\n",
      "              precision    recall  f1-score   support\n",
      "\n",
      "         0.0       0.98      0.98      0.98        52\n",
      "         1.0       0.96      0.96      0.96        28\n",
      "\n",
      "    accuracy                           0.97        80\n",
      "   macro avg       0.97      0.97      0.97        80\n",
      "weighted avg       0.97      0.97      0.97        80\n",
      "\n"
     ]
    }
   ],
   "source": [
    "\n",
    "from sklearn.metrics import precision_score,accuracy_score, f1_score, precision_score, recall_score, roc_auc_score\n",
    "\n",
    "\n",
    "from sklearn.neighbors import KNeighborsClassifier\n",
    "\n",
    "X =  df.drop(['class'], axis=1)\n",
    "y = df['class']\n",
    "#Diviser les données (80% Apprentissage et 20% Test)\n",
    "from sklearn.model_selection import train_test_split\n",
    "X_train, X_test, y_train, y_test = train_test_split(X, y, test_size = 0.2, random_state = 0)\n",
    "from sklearn.preprocessing import StandardScaler\n",
    "scaler = StandardScaler()\n",
    "scaler.fit(X_train)\n",
    "\n",
    "X_train = scaler.transform(X_train)\n",
    "X_test = scaler.transform(X_test)\n",
    "knn=KNeighborsClassifier(n_neighbors=2)\n",
    "knn.fit(X_train,y_train)\n",
    "knn.predict(X_test)\n",
    "\n",
    "\n",
    "#Confusion Matrix\n",
    "from sklearn.metrics import confusion_matrix\n",
    "y_pred=knn.predict(X_test)\n",
    "y_true=y_test\n",
    "cm=confusion_matrix(y_true,y_pred)\n",
    "\n",
    "#Confusion Matrix on Heatmap\n",
    "f,ax=plt.subplots(figsize=(5,5))\n",
    "sns.heatmap(cm,annot=True,linewidths=0.5,linecolor=\"red\",fmt=\".0f\",ax=ax)\n",
    "plt.xlabel(\"y_pred\")\n",
    "plt.ylabel(\"y_true\")\n",
    "plt.title(\" KNN Confusion Matrix\")\n",
    "plt.show()\n",
    "\n",
    "print(\"KNN accuracy =\",knn.score(X_test,y_test)*100)\n",
    "print(classification_report(y_test,y_pred))"
   ]
  },
  {
   "cell_type": "code",
   "execution_count": 183,
   "id": "fae6cae8",
   "metadata": {},
   "outputs": [],
   "source": [
    "#knn profa houni tebda l partie l behya \n",
    "X =  df.drop(['class'], axis=1)\n",
    "y = df['class']\n",
    "#Diviser les données (80% Apprentissage et 20% Test)\n",
    "from sklearn.model_selection import train_test_split\n",
    "X_train, X_test, y_train, y_test = train_test_split(X, y, test_size = 0.2, random_state = 0)\n",
    "from sklearn.preprocessing import StandardScaler\n",
    "scaler = StandardScaler()\n",
    "scaler.fit(X_train)\n",
    "\n",
    "X_train = scaler.transform(X_train)\n",
    "X_test = scaler.transform(X_test)"
   ]
  },
  {
   "cell_type": "code",
   "execution_count": 184,
   "id": "0df30d2f",
   "metadata": {},
   "outputs": [
    {
     "data": {
      "text/plain": [
       "Text(0, 0.5, 'Erreur')"
      ]
     },
     "execution_count": 184,
     "metadata": {},
     "output_type": "execute_result"
    },
    {
     "data": {
      "image/png": "[encoded data removed]",
      "text/plain": [
       "<Figure size 864x432 with 1 Axes>"
      ]
     },
     "metadata": {
      "needs_background": "light"
     },
     "output_type": "display_data"
    }
   ],
   "source": [
    "from sklearn.neighbors import KNeighborsClassifier\n",
    "\n",
    "error = []\n",
    "# Calculer l'erreur pour k entre 1 et 40 \n",
    "#Pour chaque itération, l'err²eur moyenne pour les valeurs prédites \n",
    "#de l'ensemble de test est calculée et sauvegardée ds la liste Erreur.\n",
    "# Tester k de 1 à 40 et la distance Manhattan\n",
    "for i in range(1, 40):\n",
    "    knn = KNeighborsClassifier(i,metric='manhattan')\n",
    "    knn_model = knn.fit(X_train, y_train)\n",
    "    pred_i = knn_model.predict(X_test)\n",
    "    error.append(np.mean(pred_i != y_test))\n",
    "plt.figure(figsize=(12, 6))\n",
    "plt.plot(range(1, 40), error, color='red', linestyle='dashed', marker='o',\n",
    "         markerfacecolor='blue', markersize=10)\n",
    "plt.title('Taux Erreur pour les differentes valeurs de k')\n",
    "plt.xlabel('K ')\n",
    "plt.ylabel('Erreur')"
   ]
  },
  {
   "cell_type": "code",
   "execution_count": 185,
   "id": "8164dc4e",
   "metadata": {},
   "outputs": [
    {
     "name": "stdout",
     "output_type": "stream",
     "text": [
      "Best p: 2\n",
      "Best n_neighbors: 2\n"
     ]
    }
   ],
   "source": [
    "from sklearn.model_selection import GridSearchCV\n",
    "\n",
    "n_neighbors = list(range(1,100))\n",
    "p=[1,2] #p = 1 manhattan_distance/p=2 euclidean_distance\n",
    "#Convert to dictionary\n",
    "hyperparameters = dict(n_neighbors=n_neighbors, p=p)\n",
    "#Create new KNN object\n",
    "knn_2 = KNeighborsClassifier()\n",
    "#Use GridSearch\n",
    "clf = GridSearchCV(knn_2, hyperparameters, cv=10)\n",
    "\n",
    "#cv: number of folds of the cross validation\n",
    "\n",
    "#Fit the model\n",
    "best_model = clf.fit(X_train, y_train)\n",
    "#Print The value of best Hyperparameters\n",
    "print('Best p:', best_model.best_estimator_.get_params()['p'])\n",
    "print('Best n_neighbors:', best_model.best_estimator_.get_params()['n_neighbors'])"
   ]
  },
  {
   "cell_type": "code",
   "execution_count": 186,
   "id": "4b1270d3",
   "metadata": {},
   "outputs": [
    {
     "name": "stdout",
     "output_type": "stream",
     "text": [
      "{'n_neighbors': 2, 'p': 2}\n"
     ]
    }
   ],
   "source": [
    "# Afficher les paramètres qui donnent les meilleurs performances\n",
    "best_parameters = clf.best_params_\n",
    "print(best_parameters)"
   ]
  },
  {
   "cell_type": "code",
   "execution_count": 187,
   "id": "d40f575e",
   "metadata": {},
   "outputs": [
    {
     "name": "stdout",
     "output_type": "stream",
     "text": [
      "0.9875\n"
     ]
    }
   ],
   "source": [
    "#Taux de bonne classification\n",
    "best_result = clf.best_score_\n",
    "print(best_result)"
   ]
  },
  {
   "cell_type": "code",
   "execution_count": 188,
   "id": "786dbe6f",
   "metadata": {},
   "outputs": [],
   "source": [
    "knn = KNeighborsClassifier(2,p=2)\n",
    "knn_model = knn.fit(X_train, y_train)\n",
    "y_pred_knn = knn_model.predict(X_test)"
   ]
  },
  {
   "cell_type": "code",
   "execution_count": 189,
   "id": "d576a5b5",
   "metadata": {},
   "outputs": [
    {
     "name": "stdout",
     "output_type": "stream",
     "text": [
      "Accuracy of K-NN classifier on test set: 0.975\n"
     ]
    }
   ],
   "source": [
    "print('Accuracy of K-NN classifier on test set: {:.3f}'\n",
    "     .format(knn.score(X_test, y_test)))"
   ]
  },
  {
   "cell_type": "code",
   "execution_count": 190,
   "id": "d335dc49",
   "metadata": {},
   "outputs": [],
   "source": [
    "score=[] \n",
    "algorithms=[] \n",
    "precision=[]\n",
    "sensitivity=[]\n",
    "recall=[]\n",
    "f1score=[]\n",
    "\n",
    "# from sklearn.naive_bayes import GaussianNB\n",
    "from sklearn.metrics import precision_score,accuracy_score, f1_score, precision_score, recall_score, roc_auc_score\n",
    "from imblearn.metrics import sensitivity_score\n",
    "\n",
    "\n",
    "# y=new_data_clean['class'].values\n",
    "# x_data=new_data_clean.drop(['class'],axis=1)\n",
    "# X=(x_data-np.min(x_data))/(np.max(x_data)-np.min(x_data))\n",
    "\n",
    "\n",
    "# X = df_imputed.drop('class', axis=1)\n",
    "# y = df_imputed['class']\n",
    "\n",
    "\n",
    "# nb = GaussianNB()\n",
    "# nb.fit(X_train,y_train)\n",
    "\n",
    "# #Confusion Matrix \n",
    "# from sklearn.metrics import confusion_matrix\n",
    "# y_pred=nb.predict(X_test)\n",
    "# y_true=y_test\n",
    "# cm=confusion_matrix(y_true,y_pred)\n",
    "\n",
    "# #Confusion Matrix on Heatmap\n",
    "# f,ax=plt.subplots(figsize=(5,5))\n",
    "# sns.heatmap(cm,annot=True,linewidths=0.5,linecolor=\"red\",fmt=\".0f\",ax=ax)\n",
    "# plt.xlabel(\"y_pred\")\n",
    "# plt.ylabel(\"y_true\")\n",
    "# plt.title(\"Naive Bayes Confusion Matrix\")\n",
    "# plt.show()\n",
    "\n",
    "# print(\"Naive Bayes accuracy =\",nb.score(X_test,y_test)*100)\n",
    "# score.append(nb.score(X_test,y_test)*100)\n",
    "# algorithms.append(\"Naive Bayes\")\n",
    "\n",
    "# print(\"Naive Bayes precision =\",precision_score(y_true, y_pred,average = 'macro')*100)\n",
    "# precision.append(precision_score(y_true, y_pred,average = 'macro')*100)\n",
    "\n",
    "# print(\"Naive Bayes sensitivity =\",sensitivity_score(y_true, y_pred,average = 'macro')*100)\n",
    "# sensitivity.append(sensitivity_score(y_true, y_pred,average = 'macro')*100)\n",
    "\n",
    "# print(\"Naive Bayes recall =\",recall_score(y_true, y_pred,average = 'macro')*100)\n",
    "# recall.append(recall_score(y_true, y_pred,average = 'macro')*100)\n",
    "\n",
    "# print(\"Naive Bayes f1 score =\",f1_score(y_true, y_pred,average = 'binary')*100)\n",
    "# f1score.append(f1_score(y_true, y_pred,average = 'binary')*100)\n",
    "\n",
    "\n",
    "\n",
    "\n",
    "\n",
    "\n"
   ]
  },
  {
   "cell_type": "markdown",
   "id": "d9fe84a4-a277-4884-a6fa-823fb4a503bd",
   "metadata": {},
   "source": [
    "## New Naive Bayes"
   ]
  },
  {
   "cell_type": "code",
   "execution_count": 191,
   "id": "96b7f314-b3d8-4210-9154-f20c7eb1da61",
   "metadata": {},
   "outputs": [
    {
     "data": {
      "image/png": "[encoded data removed]",
      "text/plain": [
       "<Figure size 360x360 with 2 Axes>"
      ]
     },
     "metadata": {
      "needs_background": "light"
     },
     "output_type": "display_data"
    },
    {
     "name": "stdout",
     "output_type": "stream",
     "text": [
      "Naive Bayes accuracy = 91.25\n",
      "Naive Bayes precision = 90.16227180527383\n",
      "Naive Bayes sensitivity = 90.79670329670331\n",
      "Naive Bayes recall = 90.79670329670331\n",
      "Naive Bayes f1 score = 87.71929824561403\n"
     ]
    }
   ],
   "source": [
    "\n",
    "\n",
    "from sklearn.naive_bayes import GaussianNB\n",
    "\n",
    "nb = GaussianNB()\n",
    "nb.fit(X_train,y_train)\n",
    "\n",
    "#Confusion Matrix \n",
    "from sklearn.metrics import confusion_matrix\n",
    "y_pred=nb.predict(X_test)\n",
    "y_true=y_test\n",
    "cm=confusion_matrix(y_true,y_pred)\n",
    "\n",
    "#Confusion Matrix on Heatmap\n",
    "f,ax=plt.subplots(figsize=(5,5))\n",
    "sns.heatmap(cm,annot=True,linewidths=0.5,linecolor=\"red\",fmt=\".0f\",ax=ax)\n",
    "plt.xlabel(\"y_pred\")\n",
    "plt.ylabel(\"y_true\")\n",
    "plt.title(\"Naive Bayes Confusion Matrix\")\n",
    "plt.show()\n",
    "\n",
    "print(\"Naive Bayes accuracy =\",nb.score(X_test,y_test)*100)\n",
    "score.append(nb.score(X_test,y_test)*100)\n",
    "algorithms.append(\"Naive Bayes\")\n",
    "\n",
    "print(\"Naive Bayes precision =\",precision_score(y_true, y_pred,average = 'macro')*100)\n",
    "precision.append(precision_score(y_true, y_pred,average = 'macro')*100)\n",
    "\n",
    "print(\"Naive Bayes sensitivity =\",sensitivity_score(y_true, y_pred,average = 'macro')*100)\n",
    "sensitivity.append(sensitivity_score(y_true, y_pred,average = 'macro')*100)\n",
    "\n",
    "print(\"Naive Bayes recall =\",recall_score(y_true, y_pred,average = 'macro')*100)\n",
    "recall.append(recall_score(y_true, y_pred,average = 'macro')*100)\n",
    "\n",
    "print(\"Naive Bayes f1 score =\",f1_score(y_true, y_pred,average = 'binary')*100)\n",
    "f1score.append(f1_score(y_true, y_pred,average = 'binary')*100)\n",
    "\n",
    "\n",
    "#**************************************** NEW METHOD NAIEVE BAYES *************************\n",
    "# classifier = GaussianNB()\n",
    "# classifier.fit(X_train, y_train)\n",
    "\n",
    "# # Predicting the Test set results\n",
    "# y_pred = classifier.predict(X_test)\n",
    "\n",
    "# # Making the Confusion Matrix\n",
    "# from sklearn.metrics import confusion_matrix, accuracy_score\n",
    "# ac = accuracy_score(y_test,y_pred)\n",
    "# cm = confusion_matrix(y_test, y_pred)\n",
    "# print(ac)\n"
   ]
  },
  {
   "cell_type": "code",
   "execution_count": 192,
   "id": "18b7bca4-016f-47f1-a3cd-83eeb6519ee3",
   "metadata": {},
   "outputs": [
    {
     "name": "stdout",
     "output_type": "stream",
     "text": [
      "prediction\n",
      "0.9310344827586207\n",
      "accurancy\n",
      "0.9625\n"
     ]
    }
   ],
   "source": [
    "from sklearn.svm import SVC\n",
    "from sklearn.model_selection import GridSearchCV\n",
    "from sklearn import metrics\n",
    "support_vector_machine_model=SVC(random_state=0)\n",
    "parameters_grid={'kernel':['rbf'],\n",
    "                'C':[0.1]}\n",
    "svm_grid_search=GridSearchCV(support_vector_machine_model,parameters_grid,scoring='accuracy')\n",
    "svm_grid_search.fit(X_train,y_train)\n",
    "svm_prediction=svm_grid_search.predict(X_test)\n",
    "print('prediction\\n'+str(metrics.precision_score(y_test,svm_prediction)))\n",
    "print('accurancy\\n'+str(metrics.accuracy_score(y_test,svm_prediction)))"
   ]
  },
  {
   "cell_type": "markdown",
   "id": "07440ca8-2df3-4793-816c-812203999f5e",
   "metadata": {},
   "source": [
    "## CFS"
   ]
  },
  {
   "cell_type": "code",
   "execution_count": 193,
   "id": "a711733c-392f-4d1a-9caf-70e0b311c2a7",
   "metadata": {},
   "outputs": [
    {
     "data": {
      "image/png": "[encoded data removed]",
      "text/plain": [
       "<Figure size 864x720 with 2 Axes>"
      ]
     },
     "metadata": {
      "needs_background": "light"
     },
     "output_type": "display_data"
    }
   ],
   "source": [
    "plt.figure(figsize=(12,10))\n",
    "cor = df.corr()\n",
    "sns.heatmap(cor, annot=True, cmap=plt.cm.Reds)\n",
    "plt.show()"
   ]
  },
  {
   "cell_type": "code",
   "execution_count": 194,
   "id": "c23851db-83e8-4592-8aeb-041821834f6b",
   "metadata": {},
   "outputs": [
    {
     "data": {
      "text/plain": [
       "Index(['age', 'bp', 'sg', 'al', 'su', 'bgr', 'bu', 'sc', 'sod', 'pot', 'hemo',\n",
       "       'pcv', 'wbcc', 'rbcc', 'rbc', 'pc', 'pcc', 'ba', 'htn', 'dm', 'cad',\n",
       "       'appet', 'pe', 'ane', 'class'],\n",
       "      dtype='object')"
      ]
     },
     "execution_count": 194,
     "metadata": {},
     "output_type": "execute_result"
    }
   ],
   "source": [
    "df.columns\n"
   ]
  },
  {
   "cell_type": "code",
   "execution_count": 195,
   "id": "3ad0c100-24c3-41af-9084-20c38e1d4c0a",
   "metadata": {},
   "outputs": [],
   "source": [
    "from scipy.stats import pointbiserialr\n",
    "from math import sqrt\n",
    "\n",
    "def getMerit(subset, label):\n",
    "    k = len(subset)\n",
    "\n",
    "    # average feature-class correlation\n",
    "    rcf_all = []\n",
    "    for feature in subset:\n",
    "        coeff = pointbiserialr( df[label], df[feature] )\n",
    "        rcf_all.append( abs( coeff.correlation ) )\n",
    "    rcf = np.mean( rcf_all )\n",
    "\n",
    "    # average feature-feature correlation\n",
    "    corr = df[subset].corr()\n",
    "    corr.values[np.tril_indices_from(corr.values)] = np.nan\n",
    "    corr = abs(corr)\n",
    "    rff = corr.unstack().mean()\n",
    "\n",
    "    return (k * rcf) / sqrt(k + k * (k-1) * rff)"
   ]
  },
  {
   "cell_type": "code",
   "execution_count": 196,
   "id": "85637bed-0888-44f4-8b81-bfc8da850a64",
   "metadata": {},
   "outputs": [],
   "source": [
    "label = 'class'\n",
    "df.columns\n",
    "features = df.columns.tolist()\n",
    "features.remove(label)"
   ]
  },
  {
   "cell_type": "code",
   "execution_count": 197,
   "id": "d2ac7885-1277-4dcb-8762-82faae03bb4d",
   "metadata": {},
   "outputs": [
    {
     "data": {
      "text/html": [
       "<div>\n",
       "<style scoped>\n",
       "    .dataframe tbody tr th:only-of-type {\n",
       "        vertical-align: middle;\n",
       "    }\n",
       "\n",
       "    .dataframe tbody tr th {\n",
       "        vertical-align: top;\n",
       "    }\n",
       "\n",
       "    .dataframe thead th {\n",
       "        text-align: right;\n",
       "    }\n",
       "</style>\n",
       "<table border=\"1\" class=\"dataframe\">\n",
       "  <thead>\n",
       "    <tr style=\"text-align: right;\">\n",
       "      <th></th>\n",
       "      <th>bp</th>\n",
       "      <th>sg</th>\n",
       "      <th>al</th>\n",
       "      <th>su</th>\n",
       "    </tr>\n",
       "  </thead>\n",
       "  <tbody>\n",
       "    <tr>\n",
       "      <th>bp</th>\n",
       "      <td>NaN</td>\n",
       "      <td>-0.2043</td>\n",
       "      <td>0.142782</td>\n",
       "      <td>0.218342</td>\n",
       "    </tr>\n",
       "    <tr>\n",
       "      <th>sg</th>\n",
       "      <td>NaN</td>\n",
       "      <td>NaN</td>\n",
       "      <td>-0.466080</td>\n",
       "      <td>-0.298683</td>\n",
       "    </tr>\n",
       "    <tr>\n",
       "      <th>al</th>\n",
       "      <td>NaN</td>\n",
       "      <td>NaN</td>\n",
       "      <td>NaN</td>\n",
       "      <td>0.259016</td>\n",
       "    </tr>\n",
       "    <tr>\n",
       "      <th>su</th>\n",
       "      <td>NaN</td>\n",
       "      <td>NaN</td>\n",
       "      <td>NaN</td>\n",
       "      <td>NaN</td>\n",
       "    </tr>\n",
       "  </tbody>\n",
       "</table>\n",
       "</div>"
      ],
      "text/plain": [
       "    bp      sg        al        su\n",
       "bp NaN -0.2043  0.142782  0.218342\n",
       "sg NaN     NaN -0.466080 -0.298683\n",
       "al NaN     NaN       NaN  0.259016\n",
       "su NaN     NaN       NaN       NaN"
      ]
     },
     "execution_count": 197,
     "metadata": {},
     "output_type": "execute_result"
    }
   ],
   "source": [
    "subset = [features[1], features[2], features[3], features[4]]\n",
    "corr = df[subset].corr()\n",
    "corr.values[np.tril_indices_from(corr.values)] = np.nan\n",
    "corr"
   ]
  },
  {
   "cell_type": "code",
   "execution_count": 198,
   "id": "5141733b-ab33-4c69-bbe9-68776cbfb53e",
   "metadata": {},
   "outputs": [
    {
     "name": "stdout",
     "output_type": "stream",
     "text": [
      "Feature sg with merit 0.7098\n"
     ]
    }
   ],
   "source": [
    "best_value = -1\n",
    "best_feature = ''\n",
    "for feature in features:\n",
    "    coeff = pointbiserialr( df[label], df[feature] )\n",
    "    abs_coeff = abs( coeff.correlation )\n",
    "    if abs_coeff > best_value:\n",
    "        best_value = abs_coeff\n",
    "        best_feature = feature\n",
    "\n",
    "print(\"Feature %s with merit %.4f\"%(best_feature, best_value))"
   ]
  },
  {
   "cell_type": "code",
   "execution_count": null,
   "id": "f548c7da-751f-47db-8245-5a1e73f8c983",
   "metadata": {},
   "outputs": [],
   "source": [
    "class PriorityQueue:\n",
    "    def  __init__(self):\n",
    "        self.queue = []\n",
    "\n",
    "    def isEmpty(self):\n",
    "        return len(self.queue) == 0\n",
    "    \n",
    "    def push(self, item, priority):\n",
    "        \"\"\"\n",
    "        item already in priority queue with smaller priority:\n",
    "        -> update its priority\n",
    "        item already in priority queue with higher priority:\n",
    "        -> do nothing\n",
    "        if item not in priority queue:\n",
    "        -> push it\n",
    "        \"\"\"\n",
    "        for index, (i, p) in enumerate(self.queue):\n",
    "            if (set(i) == set(item)):\n",
    "                if (p >= priority):\n",
    "                    break\n",
    "                del self.queue[index]\n",
    "                self.queue.append( (item, priority) )\n",
    "                break\n",
    "        else:\n",
    "            self.queue.append( (item, priority) )\n",
    "        \n",
    "    def pop(self):\n",
    "        # return item with highest priority and remove it from queue\n",
    "        max_idx = 0\n",
    "        for index, (i, p) in enumerate(self.queue):\n",
    "            if (self.queue[max_idx][1] < p):\n",
    "                max_idx = index\n",
    "        (item, priority) = self.queue[max_idx]\n",
    "        del self.queue[max_idx]\n",
    "        return (item, priority)"
   ]
  },
  {
   "cell_type": "code",
   "execution_count": null,
   "id": "088c7e6d-4604-46a4-9fa8-a7d7781f1f36",
   "metadata": {},
   "outputs": [],
   "source": [
    "queue = PriorityQueue()\n",
    "# push first tuple (subset, merit)\n",
    "queue.push([best_feature], best_value)\n",
    "# list for visited nodes\n",
    "visited = []\n",
    "temp_subset=[]\n",
    "\n",
    "# counter for backtracks\n",
    "n_backtrack = 0\n",
    "\n",
    "# limit of backtracks\n",
    "max_backtrack = 1000\n"
   ]
  },
  {
   "cell_type": "code",
   "execution_count": null,
   "id": "41b3bd35-2446-4e1c-83c5-43dfb9319895",
   "metadata": {},
   "outputs": [],
   "source": [
    "# repeat until queue is empty\n",
    "# or the maximum number of backtracks is reached\n",
    "while len(temp_subset)!=17:\n",
    "    # get element of queue with highest merit\n",
    "    subset, priority = queue.pop()\n",
    "\n",
    "    # check whether the priority of this subset\n",
    "    # is higher than the current best subset\n",
    "    if (priority< best_value):\n",
    "        n_backtrack += 1\n",
    "    else:\n",
    "        best_value = priority\n",
    "        best_subset = subset\n",
    "\n",
    "    # goal condition\n",
    "    #if (n_backtrack == max_backtrack):\n",
    "        #break\n",
    "    \n",
    "    # iterate through all features and look of one can\n",
    "    # increase the merit\n",
    "    for feature in features:\n",
    "        temp_subset = subset + [feature]\n",
    "        \n",
    "        # check if this subset has already been evaluated\n",
    "        for node in visited:\n",
    "            if (set(node) == set(temp_subset)):\n",
    "                break\n",
    "        # if not, ...\n",
    "        else:\n",
    "            # ... mark it as visited\n",
    "            visited.append( temp_subset )\n",
    "            # ... compute merit\n",
    "            merit = getMerit(temp_subset, label)\n",
    "            # and push it to the queue\n",
    "            queue.push(temp_subset, merit)"
   ]
  },
  {
   "cell_type": "code",
   "execution_count": null,
   "id": "2582d170-ecbd-4106-8a02-47bc720730e4",
   "metadata": {},
   "outputs": [],
   "source": [
    "n_backtrack"
   ]
  },
  {
   "cell_type": "code",
   "execution_count": null,
   "id": "1c1c9d10-ac47-4aa8-bba7-11812b3682d0",
   "metadata": {},
   "outputs": [],
   "source": [
    "temp_subset"
   ]
  },
  {
   "cell_type": "code",
   "execution_count": null,
   "id": "e19df103-87d1-4869-bdfe-ed88cc314edf",
   "metadata": {},
   "outputs": [],
   "source": [
    "best_subset"
   ]
  },
  {
   "cell_type": "code",
   "execution_count": null,
   "id": "f51d40c3-176c-4ec8-8a00-1c2533b0cb3c",
   "metadata": {
    "tags": []
   },
   "outputs": [],
   "source": [
    "moo=new_data[temp_subset]\n"
   ]
  },
  {
   "cell_type": "code",
   "execution_count": null,
   "id": "74c09f90-55e6-44be-b9f6-6ea8f3655a34",
   "metadata": {},
   "outputs": [],
   "source": [
    "moo.describe()"
   ]
  },
  {
   "cell_type": "code",
   "execution_count": null,
   "id": "7238ddbb",
   "metadata": {},
   "outputs": [],
   "source": [
    "X =  moo\n",
    "y = df['class']\n",
    "\n",
    "X_train, X_test, y_train, y_test = train_test_split(X, y, test_size = 0.2, random_state = 0)\n",
    "\n",
    "\n",
    "scaler = StandardScaler()\n",
    "scaler.fit(X_train)\n",
    "\n",
    "X_train = scaler.transform(X_train)\n",
    "X_test = scaler.transform(X_test)\n",
    "\n"
   ]
  },
  {
   "cell_type": "markdown",
   "id": "92ac3faa-00ad-4c36-a065-be130b2a0ef0",
   "metadata": {},
   "source": [
    "# NAIVE BAYES WITH CFS"
   ]
  },
  {
   "cell_type": "code",
   "execution_count": null,
   "id": "8493254b",
   "metadata": {},
   "outputs": [],
   "source": [
    "\n",
    "nb = GaussianNB()\n",
    "nb.fit(X_train,y_train)\n",
    "\n",
    "#Confusion Matrix \n",
    "from sklearn.metrics import confusion_matrix\n",
    "y_pred=nb.predict(X_test)\n",
    "y_true=y_test\n",
    "cm=confusion_matrix(y_true,y_pred)\n",
    "\n",
    "#Confusion Matrix on Heatmap\n",
    "f,ax=plt.subplots(figsize=(5,5))\n",
    "sns.heatmap(cm,annot=True,linewidths=0.5,linecolor=\"red\",fmt=\".0f\",ax=ax)\n",
    "plt.xlabel(\"y_pred\")\n",
    "plt.ylabel(\"y_true\")\n",
    "plt.title(\"Naive Bayes Confusion Matrix\")\n",
    "plt.show()\n",
    "\n",
    "print(\"Naive Bayes accuracy =\",nb.score(X_test,y_test)*100)\n",
    "score.append(nb.score(X_test,y_test)*100)\n",
    "algorithms.append(\"Naive Bayes\")\n",
    "\n",
    "print(\"Naive Bayes precision =\",precision_score(y_true, y_pred,average = 'macro')*100)\n",
    "precision.append(precision_score(y_true, y_pred,average = 'macro')*100)\n",
    "\n",
    "print(\"Naive Bayes sensitivity =\",sensitivity_score(y_true, y_pred,average = 'macro')*100)\n",
    "sensitivity.append(sensitivity_score(y_true, y_pred,average = 'macro')*100)\n",
    "\n",
    "print(\"Naive Bayes recall =\",recall_score(y_true, y_pred,average = 'macro')*100)\n",
    "recall.append(recall_score(y_true, y_pred,average = 'macro')*100)\n",
    "\n",
    "print(\"Naive Bayes f1 score =\",f1_score(y_true, y_pred,average = 'binary')*100)\n",
    "f1score.append(f1_score(y_true, y_pred,average = 'binary')*100)\n",
    "\n",
    "#************************ NEW METHOD NAIEVE BAYES *********************\n",
    "# classifier = GaussianNB()\n",
    "# classifier.fit(X_train, y_train)\n",
    "\n",
    "# # Predicting the Test set results\n",
    "# y_pred = classifier.predict(X_test)\n",
    "\n",
    "# # Making the Confusion Matrix\n",
    "# from sklearn.metrics import confusion_matrix, accuracy_score\n",
    "# ac = accuracy_score(y_test,y_pred)\n",
    "# cm = confusion_matrix(y_test, y_pred)\n",
    "# print(ac)"
   ]
  },
  {
   "cell_type": "code",
   "execution_count": null,
   "id": "24d5139b-e025-466d-8a16-441205152885",
   "metadata": {},
   "outputs": [],
   "source": [
    "from sklearn.svm import SVC\n",
    "from sklearn.model_selection import GridSearchCV\n",
    "from sklearn import metrics\n",
    "support_vector_machine_model=SVC(random_state=0)\n",
    "parameters_grid={'kernel':['rbf'],\n",
    "                'C':[0.1]}\n",
    "svm_grid_search=GridSearchCV(support_vector_machine_model,parameters_grid,scoring='accuracy')\n",
    "svm_grid_search.fit(X_train,y_train)\n",
    "svm_prediction=svm_grid_search.predict(X_test)\n",
    "print('prediction\\n'+str(metrics.precision_score(y_test,svm_prediction)))\n",
    "print('accurancy\\n'+str(metrics.accuracy_score(y_test,svm_prediction)))"
   ]
  },
  {
   "cell_type": "code",
   "execution_count": null,
   "id": "d2631286-fc96-4382-8a12-e5a8b5bb67bd",
   "metadata": {},
   "outputs": [],
   "source": []
  },
  {
   "cell_type": "code",
   "execution_count": null,
   "id": "0dbd4389-c5c9-4103-9bb5-d27faa0e2e85",
   "metadata": {},
   "outputs": [],
   "source": []
  },
  {
   "cell_type": "code",
   "execution_count": null,
   "id": "e4638b15-7ea3-4b77-9645-858ee29267a2",
   "metadata": {},
   "outputs": [],
   "source": []
  }
 ],
 "metadata": {
  "kernelspec": {
   "display_name": "Python 3 (ipykernel)",
   "language": "python",
   "name": "python3"
  },
  "language_info": {
   "codemirror_mode": {
    "name": "ipython",
    "version": 3
   },
   "file_extension": ".py",
   "mimetype": "text/x-python",
   "name": "python",
   "nbconvert_exporter": "python",
   "pygments_lexer": "ipython3",
   "version": "3.9.12"
  }
 },
 "nbformat": 4,
 "nbformat_minor": 5
}
